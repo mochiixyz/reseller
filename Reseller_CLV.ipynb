{
 "cells": [
  {
   "cell_type": "markdown",
   "id": "61a0e89d",
   "metadata": {},
   "source": [
    "# Customer Lifetime Value"
   ]
  },
  {
   "cell_type": "markdown",
   "id": "4853a6f8",
   "metadata": {},
   "source": [
    "## Section 1: Project Definition"
   ]
  },
  {
   "cell_type": "markdown",
   "id": "83325416",
   "metadata": {},
   "source": [
    "In marketing, \"Acquiring a new customer can cost five times more than retaining an existing customer\". "
   ]
  },
  {
   "cell_type": "code",
   "execution_count": 1,
   "id": "1426a27f",
   "metadata": {},
   "outputs": [],
   "source": [
    "#Import library\n",
    "import numpy as np\n",
    "import pandas as pd\n",
    "import matplotlib.pyplot as plt\n",
    "import seaborn as sns\n",
    "import plotnine as pn"
   ]
  },
  {
   "cell_type": "code",
   "execution_count": 2,
   "id": "1cb3bad7",
   "metadata": {},
   "outputs": [],
   "source": [
    "#Load data\n",
    "df = pd.read_csv (r'reseller_change_money.csv')"
   ]
  },
  {
   "cell_type": "code",
   "execution_count": 3,
   "id": "e1283a7f",
   "metadata": {},
   "outputs": [
    {
     "data": {
      "text/html": [
       "<div>\n",
       "<style scoped>\n",
       "    .dataframe tbody tr th:only-of-type {\n",
       "        vertical-align: middle;\n",
       "    }\n",
       "\n",
       "    .dataframe tbody tr th {\n",
       "        vertical-align: top;\n",
       "    }\n",
       "\n",
       "    .dataframe thead th {\n",
       "        text-align: right;\n",
       "    }\n",
       "</style>\n",
       "<table border=\"1\" class=\"dataframe\">\n",
       "  <thead>\n",
       "    <tr style=\"text-align: right;\">\n",
       "      <th></th>\n",
       "      <th>domain_name</th>\n",
       "      <th>money</th>\n",
       "      <th>freq</th>\n",
       "      <th>recency</th>\n",
       "      <th>t</th>\n",
       "      <th>CLV</th>\n",
       "    </tr>\n",
       "  </thead>\n",
       "  <tbody>\n",
       "    <tr>\n",
       "      <th>0</th>\n",
       "      <td>atad.com.vn</td>\n",
       "      <td>9489.72</td>\n",
       "      <td>35</td>\n",
       "      <td>2</td>\n",
       "      <td>977</td>\n",
       "      <td>15969.72</td>\n",
       "    </tr>\n",
       "    <tr>\n",
       "      <th>1</th>\n",
       "      <td>panservices.vn</td>\n",
       "      <td>10175.82</td>\n",
       "      <td>19</td>\n",
       "      <td>216</td>\n",
       "      <td>1220</td>\n",
       "      <td>10175.82</td>\n",
       "    </tr>\n",
       "    <tr>\n",
       "      <th>2</th>\n",
       "      <td>ved.com.vn</td>\n",
       "      <td>12135.25</td>\n",
       "      <td>234</td>\n",
       "      <td>2</td>\n",
       "      <td>1585</td>\n",
       "      <td>14370.58</td>\n",
       "    </tr>\n",
       "    <tr>\n",
       "      <th>3</th>\n",
       "      <td>yeah1group.com</td>\n",
       "      <td>3029.20</td>\n",
       "      <td>32</td>\n",
       "      <td>2</td>\n",
       "      <td>916</td>\n",
       "      <td>3239.20</td>\n",
       "    </tr>\n",
       "    <tr>\n",
       "      <th>4</th>\n",
       "      <td>rever.vn</td>\n",
       "      <td>213.40</td>\n",
       "      <td>23</td>\n",
       "      <td>2</td>\n",
       "      <td>305</td>\n",
       "      <td>501.76</td>\n",
       "    </tr>\n",
       "    <tr>\n",
       "      <th>...</th>\n",
       "      <td>...</td>\n",
       "      <td>...</td>\n",
       "      <td>...</td>\n",
       "      <td>...</td>\n",
       "      <td>...</td>\n",
       "      <td>...</td>\n",
       "    </tr>\n",
       "    <tr>\n",
       "      <th>1858</th>\n",
       "      <td>hungvietgroup.vn</td>\n",
       "      <td>14.46</td>\n",
       "      <td>1</td>\n",
       "      <td>1554</td>\n",
       "      <td>1554</td>\n",
       "      <td>14.46</td>\n",
       "    </tr>\n",
       "    <tr>\n",
       "      <th>1859</th>\n",
       "      <td>regent.com</td>\n",
       "      <td>0.07</td>\n",
       "      <td>1</td>\n",
       "      <td>1220</td>\n",
       "      <td>1220</td>\n",
       "      <td>0.07</td>\n",
       "    </tr>\n",
       "    <tr>\n",
       "      <th>1860</th>\n",
       "      <td>sensia.vn</td>\n",
       "      <td>1.12</td>\n",
       "      <td>1</td>\n",
       "      <td>1312</td>\n",
       "      <td>1312</td>\n",
       "      <td>1.12</td>\n",
       "    </tr>\n",
       "    <tr>\n",
       "      <th>1861</th>\n",
       "      <td>tesla.edu.vn</td>\n",
       "      <td>11.73</td>\n",
       "      <td>1</td>\n",
       "      <td>2</td>\n",
       "      <td>2</td>\n",
       "      <td>226.44</td>\n",
       "    </tr>\n",
       "    <tr>\n",
       "      <th>1862</th>\n",
       "      <td>catloi.com</td>\n",
       "      <td>190.68</td>\n",
       "      <td>1</td>\n",
       "      <td>1220</td>\n",
       "      <td>1220</td>\n",
       "      <td>190.68</td>\n",
       "    </tr>\n",
       "  </tbody>\n",
       "</table>\n",
       "<p>1863 rows × 6 columns</p>\n",
       "</div>"
      ],
      "text/plain": [
       "           domain_name     money  freq  recency     t       CLV\n",
       "0          atad.com.vn   9489.72    35        2   977  15969.72\n",
       "1       panservices.vn  10175.82    19      216  1220  10175.82\n",
       "2           ved.com.vn  12135.25   234        2  1585  14370.58\n",
       "3       yeah1group.com   3029.20    32        2   916   3239.20\n",
       "4             rever.vn    213.40    23        2   305    501.76\n",
       "...                ...       ...   ...      ...   ...       ...\n",
       "1858  hungvietgroup.vn     14.46     1     1554  1554     14.46\n",
       "1859        regent.com      0.07     1     1220  1220      0.07\n",
       "1860         sensia.vn      1.12     1     1312  1312      1.12\n",
       "1861      tesla.edu.vn     11.73     1        2     2    226.44\n",
       "1862        catloi.com    190.68     1     1220  1220    190.68\n",
       "\n",
       "[1863 rows x 6 columns]"
      ]
     },
     "execution_count": 3,
     "metadata": {},
     "output_type": "execute_result"
    }
   ],
   "source": [
    "df"
   ]
  },
  {
   "cell_type": "code",
   "execution_count": 4,
   "id": "f8eb78ad",
   "metadata": {},
   "outputs": [],
   "source": [
    "train=df.sample(frac=0.8,random_state=200)\n",
    "test=df.drop(train.index)"
   ]
  },
  {
   "cell_type": "code",
   "execution_count": 5,
   "id": "37f4e896",
   "metadata": {},
   "outputs": [
    {
     "data": {
      "text/plain": [
       "2"
      ]
     },
     "execution_count": 5,
     "metadata": {},
     "output_type": "execute_result"
    }
   ],
   "source": [
    "df['recency'].min()"
   ]
  },
  {
   "cell_type": "code",
   "execution_count": 6,
   "id": "54bc9440",
   "metadata": {},
   "outputs": [],
   "source": [
    "from lifetimes import BetaGeoFitter"
   ]
  },
  {
   "cell_type": "code",
   "execution_count": 7,
   "id": "181e7a06",
   "metadata": {},
   "outputs": [
    {
     "name": "stdout",
     "output_type": "stream",
     "text": [
      "<lifetimes.GammaGammaFitter: fitted with 1490 subjects, p: 0.17, q: 1.01, v: 3326.82>\n"
     ]
    }
   ],
   "source": [
    "from lifetimes import GammaGammaFitter\n",
    "ggf = GammaGammaFitter(penalizer_coef = 0)\n",
    "ggf.fit(train['freq'],\n",
    "train['money'])\n",
    "print(ggf)"
   ]
  },
  {
   "cell_type": "code",
   "execution_count": 8,
   "id": "13113c98",
   "metadata": {},
   "outputs": [],
   "source": [
    "train[\"predicted_monetary\"] = ggf.conditional_expected_average_profit(train['freq'],train['money'])"
   ]
  },
  {
   "cell_type": "code",
   "execution_count": 9,
   "id": "595b2605",
   "metadata": {},
   "outputs": [
    {
     "data": {
      "text/html": [
       "<div>\n",
       "<style scoped>\n",
       "    .dataframe tbody tr th:only-of-type {\n",
       "        vertical-align: middle;\n",
       "    }\n",
       "\n",
       "    .dataframe tbody tr th {\n",
       "        vertical-align: top;\n",
       "    }\n",
       "\n",
       "    .dataframe thead th {\n",
       "        text-align: right;\n",
       "    }\n",
       "</style>\n",
       "<table border=\"1\" class=\"dataframe\">\n",
       "  <thead>\n",
       "    <tr style=\"text-align: right;\">\n",
       "      <th></th>\n",
       "      <th>domain_name</th>\n",
       "      <th>money</th>\n",
       "      <th>freq</th>\n",
       "      <th>recency</th>\n",
       "      <th>t</th>\n",
       "      <th>CLV</th>\n",
       "      <th>predicted_monetary</th>\n",
       "    </tr>\n",
       "  </thead>\n",
       "  <tbody>\n",
       "    <tr>\n",
       "      <th>488</th>\n",
       "      <td>vipecjsc.com.vn</td>\n",
       "      <td>24.00</td>\n",
       "      <td>1</td>\n",
       "      <td>1220</td>\n",
       "      <td>1220</td>\n",
       "      <td>24.00</td>\n",
       "      <td>3202.513447</td>\n",
       "    </tr>\n",
       "    <tr>\n",
       "      <th>522</th>\n",
       "      <td>sbcsteel.com</td>\n",
       "      <td>3152.15</td>\n",
       "      <td>42</td>\n",
       "      <td>397</td>\n",
       "      <td>1585</td>\n",
       "      <td>3152.15</td>\n",
       "      <td>3227.801010</td>\n",
       "    </tr>\n",
       "    <tr>\n",
       "      <th>593</th>\n",
       "      <td>cornerstone.com.vn</td>\n",
       "      <td>3018.88</td>\n",
       "      <td>81</td>\n",
       "      <td>2</td>\n",
       "      <td>1585</td>\n",
       "      <td>4242.55</td>\n",
       "      <td>3058.203410</td>\n",
       "    </tr>\n",
       "    <tr>\n",
       "      <th>1117</th>\n",
       "      <td>mywayhotelnhatrang.com</td>\n",
       "      <td>293.96</td>\n",
       "      <td>3</td>\n",
       "      <td>886</td>\n",
       "      <td>1251</td>\n",
       "      <td>293.96</td>\n",
       "      <td>1381.572841</td>\n",
       "    </tr>\n",
       "    <tr>\n",
       "      <th>949</th>\n",
       "      <td>hakuta.com.vn</td>\n",
       "      <td>869.55</td>\n",
       "      <td>29</td>\n",
       "      <td>2</td>\n",
       "      <td>1554</td>\n",
       "      <td>1148.43</td>\n",
       "      <td>982.698614</td>\n",
       "    </tr>\n",
       "    <tr>\n",
       "      <th>...</th>\n",
       "      <td>...</td>\n",
       "      <td>...</td>\n",
       "      <td>...</td>\n",
       "      <td>...</td>\n",
       "      <td>...</td>\n",
       "      <td>...</td>\n",
       "      <td>...</td>\n",
       "    </tr>\n",
       "    <tr>\n",
       "      <th>841</th>\n",
       "      <td>asianmotors.vn</td>\n",
       "      <td>653.76</td>\n",
       "      <td>17</td>\n",
       "      <td>2</td>\n",
       "      <td>1493</td>\n",
       "      <td>769.10</td>\n",
       "      <td>847.147469</td>\n",
       "    </tr>\n",
       "    <tr>\n",
       "      <th>335</th>\n",
       "      <td>nammodelagency.com</td>\n",
       "      <td>455.13</td>\n",
       "      <td>41</td>\n",
       "      <td>2</td>\n",
       "      <td>1585</td>\n",
       "      <td>528.83</td>\n",
       "      <td>535.666858</td>\n",
       "    </tr>\n",
       "    <tr>\n",
       "      <th>516</th>\n",
       "      <td>paragoncdst.com.vn</td>\n",
       "      <td>907.88</td>\n",
       "      <td>27</td>\n",
       "      <td>2</td>\n",
       "      <td>1342</td>\n",
       "      <td>1054.27</td>\n",
       "      <td>1029.330014</td>\n",
       "    </tr>\n",
       "    <tr>\n",
       "      <th>936</th>\n",
       "      <td>vn.ids.jp</td>\n",
       "      <td>3656.42</td>\n",
       "      <td>28</td>\n",
       "      <td>977</td>\n",
       "      <td>1585</td>\n",
       "      <td>3656.42</td>\n",
       "      <td>3769.001436</td>\n",
       "    </tr>\n",
       "    <tr>\n",
       "      <th>1580</th>\n",
       "      <td>cores.com.vn</td>\n",
       "      <td>144.37</td>\n",
       "      <td>3</td>\n",
       "      <td>2</td>\n",
       "      <td>124</td>\n",
       "      <td>803.10</td>\n",
       "      <td>1234.256837</td>\n",
       "    </tr>\n",
       "  </tbody>\n",
       "</table>\n",
       "<p>1490 rows × 7 columns</p>\n",
       "</div>"
      ],
      "text/plain": [
       "                 domain_name    money  freq  recency     t      CLV  \\\n",
       "488          vipecjsc.com.vn    24.00     1     1220  1220    24.00   \n",
       "522             sbcsteel.com  3152.15    42      397  1585  3152.15   \n",
       "593       cornerstone.com.vn  3018.88    81        2  1585  4242.55   \n",
       "1117  mywayhotelnhatrang.com   293.96     3      886  1251   293.96   \n",
       "949            hakuta.com.vn   869.55    29        2  1554  1148.43   \n",
       "...                      ...      ...   ...      ...   ...      ...   \n",
       "841           asianmotors.vn   653.76    17        2  1493   769.10   \n",
       "335       nammodelagency.com   455.13    41        2  1585   528.83   \n",
       "516       paragoncdst.com.vn   907.88    27        2  1342  1054.27   \n",
       "936                vn.ids.jp  3656.42    28      977  1585  3656.42   \n",
       "1580            cores.com.vn   144.37     3        2   124   803.10   \n",
       "\n",
       "      predicted_monetary  \n",
       "488          3202.513447  \n",
       "522          3227.801010  \n",
       "593          3058.203410  \n",
       "1117         1381.572841  \n",
       "949           982.698614  \n",
       "...                  ...  \n",
       "841           847.147469  \n",
       "335           535.666858  \n",
       "516          1029.330014  \n",
       "936          3769.001436  \n",
       "1580         1234.256837  \n",
       "\n",
       "[1490 rows x 7 columns]"
      ]
     },
     "execution_count": 9,
     "metadata": {},
     "output_type": "execute_result"
    }
   ],
   "source": [
    "train"
   ]
  },
  {
   "cell_type": "code",
   "execution_count": 10,
   "id": "ea776abb",
   "metadata": {},
   "outputs": [],
   "source": [
    "from xgboost import XGBClassifier, XGBRegressor"
   ]
  },
  {
   "cell_type": "code",
   "execution_count": 11,
   "id": "90073bf9",
   "metadata": {},
   "outputs": [],
   "source": [
    "from sklearn.model_selection import cross_val_score, GridSearchCV"
   ]
  },
  {
   "cell_type": "code",
   "execution_count": 12,
   "id": "e0f0cd9b",
   "metadata": {},
   "outputs": [],
   "source": [
    "X = train[[\"recency\", \"freq\", \"money\",\"t\"]]"
   ]
  },
  {
   "cell_type": "code",
   "execution_count": 13,
   "id": "55d63645",
   "metadata": {},
   "outputs": [],
   "source": [
    "y = train[\"CLV\"]"
   ]
  },
  {
   "cell_type": "code",
   "execution_count": 14,
   "id": "ae145e63",
   "metadata": {},
   "outputs": [],
   "source": [
    "xgb_reg_spec = XGBRegressor(objective=\"reg:squarederror\", randomstate = 123)\n",
    "xgb_reg_model = GridSearchCV(estimator = xgb_reg_spec, \n",
    "                             param_grid = dict(learning_rate = [0.01, 0.1, 0.3, 0.5]),\n",
    "                             scoring =\"neg_mean_absolute_error\", refit = True, cv = 5)"
   ]
  },
  {
   "cell_type": "code",
   "execution_count": 15,
   "id": "fd939c74",
   "metadata": {},
   "outputs": [
    {
     "name": "stdout",
     "output_type": "stream",
     "text": [
      "[10:17:19] WARNING: C:/Users/Administrator/workspace/xgboost-win64_release_1.6.0/src/learner.cc:627: \n",
      "Parameters: { \"randomstate\" } might not be used.\n",
      "\n",
      "  This could be a false alarm, with some parameters getting used by language bindings but\n",
      "  then being mistakenly passed down to XGBoost core, or some parameter actually being used\n",
      "  but getting flagged wrongly here. Please open an issue if you find any such cases.\n",
      "\n",
      "\n",
      "[10:17:20] WARNING: C:/Users/Administrator/workspace/xgboost-win64_release_1.6.0/src/learner.cc:627: \n",
      "Parameters: { \"randomstate\" } might not be used.\n",
      "\n",
      "  This could be a false alarm, with some parameters getting used by language bindings but\n",
      "  then being mistakenly passed down to XGBoost core, or some parameter actually being used\n",
      "  but getting flagged wrongly here. Please open an issue if you find any such cases.\n",
      "\n",
      "\n",
      "[10:17:20] WARNING: C:/Users/Administrator/workspace/xgboost-win64_release_1.6.0/src/learner.cc:627: \n",
      "Parameters: { \"randomstate\" } might not be used.\n",
      "\n",
      "  This could be a false alarm, with some parameters getting used by language bindings but\n",
      "  then being mistakenly passed down to XGBoost core, or some parameter actually being used\n",
      "  but getting flagged wrongly here. Please open an issue if you find any such cases.\n",
      "\n",
      "\n",
      "[10:17:20] WARNING: C:/Users/Administrator/workspace/xgboost-win64_release_1.6.0/src/learner.cc:627: \n",
      "Parameters: { \"randomstate\" } might not be used.\n",
      "\n",
      "  This could be a false alarm, with some parameters getting used by language bindings but\n",
      "  then being mistakenly passed down to XGBoost core, or some parameter actually being used\n",
      "  but getting flagged wrongly here. Please open an issue if you find any such cases.\n",
      "\n",
      "\n",
      "[10:17:20] WARNING: C:/Users/Administrator/workspace/xgboost-win64_release_1.6.0/src/learner.cc:627: \n",
      "Parameters: { \"randomstate\" } might not be used.\n",
      "\n",
      "  This could be a false alarm, with some parameters getting used by language bindings but\n",
      "  then being mistakenly passed down to XGBoost core, or some parameter actually being used\n",
      "  but getting flagged wrongly here. Please open an issue if you find any such cases.\n",
      "\n",
      "\n",
      "[10:17:21] WARNING: C:/Users/Administrator/workspace/xgboost-win64_release_1.6.0/src/learner.cc:627: \n",
      "Parameters: { \"randomstate\" } might not be used.\n",
      "\n",
      "  This could be a false alarm, with some parameters getting used by language bindings but\n",
      "  then being mistakenly passed down to XGBoost core, or some parameter actually being used\n",
      "  but getting flagged wrongly here. Please open an issue if you find any such cases.\n",
      "\n",
      "\n",
      "[10:17:21] WARNING: C:/Users/Administrator/workspace/xgboost-win64_release_1.6.0/src/learner.cc:627: \n",
      "Parameters: { \"randomstate\" } might not be used.\n",
      "\n",
      "  This could be a false alarm, with some parameters getting used by language bindings but\n",
      "  then being mistakenly passed down to XGBoost core, or some parameter actually being used\n",
      "  but getting flagged wrongly here. Please open an issue if you find any such cases.\n",
      "\n",
      "\n",
      "[10:17:21] WARNING: C:/Users/Administrator/workspace/xgboost-win64_release_1.6.0/src/learner.cc:627: \n",
      "Parameters: { \"randomstate\" } might not be used.\n",
      "\n",
      "  This could be a false alarm, with some parameters getting used by language bindings but\n",
      "  then being mistakenly passed down to XGBoost core, or some parameter actually being used\n",
      "  but getting flagged wrongly here. Please open an issue if you find any such cases.\n",
      "\n",
      "\n",
      "[10:17:21] WARNING: C:/Users/Administrator/workspace/xgboost-win64_release_1.6.0/src/learner.cc:627: \n",
      "Parameters: { \"randomstate\" } might not be used.\n",
      "\n",
      "  This could be a false alarm, with some parameters getting used by language bindings but\n",
      "  then being mistakenly passed down to XGBoost core, or some parameter actually being used\n",
      "  but getting flagged wrongly here. Please open an issue if you find any such cases.\n",
      "\n",
      "\n",
      "[10:17:22] WARNING: C:/Users/Administrator/workspace/xgboost-win64_release_1.6.0/src/learner.cc:627: \n",
      "Parameters: { \"randomstate\" } might not be used.\n",
      "\n",
      "  This could be a false alarm, with some parameters getting used by language bindings but\n",
      "  then being mistakenly passed down to XGBoost core, or some parameter actually being used\n",
      "  but getting flagged wrongly here. Please open an issue if you find any such cases.\n",
      "\n",
      "\n",
      "[10:17:22] WARNING: C:/Users/Administrator/workspace/xgboost-win64_release_1.6.0/src/learner.cc:627: \n",
      "Parameters: { \"randomstate\" } might not be used.\n",
      "\n",
      "  This could be a false alarm, with some parameters getting used by language bindings but\n",
      "  then being mistakenly passed down to XGBoost core, or some parameter actually being used\n",
      "  but getting flagged wrongly here. Please open an issue if you find any such cases.\n",
      "\n",
      "\n",
      "[10:17:22] WARNING: C:/Users/Administrator/workspace/xgboost-win64_release_1.6.0/src/learner.cc:627: \n",
      "Parameters: { \"randomstate\" } might not be used.\n",
      "\n",
      "  This could be a false alarm, with some parameters getting used by language bindings but\n",
      "  then being mistakenly passed down to XGBoost core, or some parameter actually being used\n",
      "  but getting flagged wrongly here. Please open an issue if you find any such cases.\n",
      "\n",
      "\n",
      "[10:17:22] WARNING: C:/Users/Administrator/workspace/xgboost-win64_release_1.6.0/src/learner.cc:627: \n",
      "Parameters: { \"randomstate\" } might not be used.\n",
      "\n",
      "  This could be a false alarm, with some parameters getting used by language bindings but\n",
      "  then being mistakenly passed down to XGBoost core, or some parameter actually being used\n",
      "  but getting flagged wrongly here. Please open an issue if you find any such cases.\n",
      "\n",
      "\n",
      "[10:17:23] WARNING: C:/Users/Administrator/workspace/xgboost-win64_release_1.6.0/src/learner.cc:627: \n",
      "Parameters: { \"randomstate\" } might not be used.\n",
      "\n",
      "  This could be a false alarm, with some parameters getting used by language bindings but\n",
      "  then being mistakenly passed down to XGBoost core, or some parameter actually being used\n",
      "  but getting flagged wrongly here. Please open an issue if you find any such cases.\n",
      "\n",
      "\n",
      "[10:17:23] WARNING: C:/Users/Administrator/workspace/xgboost-win64_release_1.6.0/src/learner.cc:627: \n",
      "Parameters: { \"randomstate\" } might not be used.\n",
      "\n",
      "  This could be a false alarm, with some parameters getting used by language bindings but\n",
      "  then being mistakenly passed down to XGBoost core, or some parameter actually being used\n",
      "  but getting flagged wrongly here. Please open an issue if you find any such cases.\n",
      "\n",
      "\n",
      "[10:17:23] WARNING: C:/Users/Administrator/workspace/xgboost-win64_release_1.6.0/src/learner.cc:627: \n",
      "Parameters: { \"randomstate\" } might not be used.\n",
      "\n",
      "  This could be a false alarm, with some parameters getting used by language bindings but\n",
      "  then being mistakenly passed down to XGBoost core, or some parameter actually being used\n",
      "  but getting flagged wrongly here. Please open an issue if you find any such cases.\n",
      "\n",
      "\n",
      "[10:17:23] WARNING: C:/Users/Administrator/workspace/xgboost-win64_release_1.6.0/src/learner.cc:627: \n",
      "Parameters: { \"randomstate\" } might not be used.\n",
      "\n",
      "  This could be a false alarm, with some parameters getting used by language bindings but\n",
      "  then being mistakenly passed down to XGBoost core, or some parameter actually being used\n",
      "  but getting flagged wrongly here. Please open an issue if you find any such cases.\n",
      "\n",
      "\n",
      "[10:17:24] WARNING: C:/Users/Administrator/workspace/xgboost-win64_release_1.6.0/src/learner.cc:627: \n",
      "Parameters: { \"randomstate\" } might not be used.\n",
      "\n",
      "  This could be a false alarm, with some parameters getting used by language bindings but\n",
      "  then being mistakenly passed down to XGBoost core, or some parameter actually being used\n",
      "  but getting flagged wrongly here. Please open an issue if you find any such cases.\n",
      "\n",
      "\n",
      "[10:17:24] WARNING: C:/Users/Administrator/workspace/xgboost-win64_release_1.6.0/src/learner.cc:627: \n",
      "Parameters: { \"randomstate\" } might not be used.\n",
      "\n",
      "  This could be a false alarm, with some parameters getting used by language bindings but\n",
      "  then being mistakenly passed down to XGBoost core, or some parameter actually being used\n",
      "  but getting flagged wrongly here. Please open an issue if you find any such cases.\n",
      "\n",
      "\n",
      "[10:17:24] WARNING: C:/Users/Administrator/workspace/xgboost-win64_release_1.6.0/src/learner.cc:627: \n",
      "Parameters: { \"randomstate\" } might not be used.\n",
      "\n",
      "  This could be a false alarm, with some parameters getting used by language bindings but\n",
      "  then being mistakenly passed down to XGBoost core, or some parameter actually being used\n",
      "  but getting flagged wrongly here. Please open an issue if you find any such cases.\n",
      "\n",
      "\n"
     ]
    },
    {
     "name": "stdout",
     "output_type": "stream",
     "text": [
      "[10:17:25] WARNING: C:/Users/Administrator/workspace/xgboost-win64_release_1.6.0/src/learner.cc:627: \n",
      "Parameters: { \"randomstate\" } might not be used.\n",
      "\n",
      "  This could be a false alarm, with some parameters getting used by language bindings but\n",
      "  then being mistakenly passed down to XGBoost core, or some parameter actually being used\n",
      "  but getting flagged wrongly here. Please open an issue if you find any such cases.\n",
      "\n",
      "\n"
     ]
    },
    {
     "data": {
      "text/plain": [
       "GridSearchCV(cv=5,\n",
       "             estimator=XGBRegressor(base_score=None, booster=None,\n",
       "                                    callbacks=None, colsample_bylevel=None,\n",
       "                                    colsample_bynode=None,\n",
       "                                    colsample_bytree=None,\n",
       "                                    early_stopping_rounds=None,\n",
       "                                    enable_categorical=False, eval_metric=None,\n",
       "                                    gamma=None, gpu_id=None, grow_policy=None,\n",
       "                                    importance_type=None,\n",
       "                                    interaction_constraints=None,\n",
       "                                    learning_rate=None, max_bin=None,\n",
       "                                    max_cat_to_onehot=None, max_delta_step=None,\n",
       "                                    max_depth=None, max_leaves=None,\n",
       "                                    min_child_weight=None, missing=nan,\n",
       "                                    monotone_constraints=None, n_estimators=100,\n",
       "                                    n_jobs=None, num_parallel_tree=None,\n",
       "                                    predictor=None, random_state=None,\n",
       "                                    randomstate=123, reg_alpha=None, ...),\n",
       "             param_grid={'learning_rate': [0.01, 0.1, 0.3, 0.5]},\n",
       "             scoring='neg_mean_absolute_error')"
      ]
     },
     "execution_count": 15,
     "metadata": {},
     "output_type": "execute_result"
    }
   ],
   "source": [
    "xgb_reg_model.fit(X, y)"
   ]
  },
  {
   "cell_type": "code",
   "execution_count": 16,
   "id": "40bcaace",
   "metadata": {},
   "outputs": [],
   "source": [
    "train['xgb_CLV'] = xgb_reg_model.predict(X)"
   ]
  },
  {
   "cell_type": "code",
   "execution_count": 17,
   "id": "e448cbd8",
   "metadata": {},
   "outputs": [
    {
     "data": {
      "text/html": [
       "<div>\n",
       "<style scoped>\n",
       "    .dataframe tbody tr th:only-of-type {\n",
       "        vertical-align: middle;\n",
       "    }\n",
       "\n",
       "    .dataframe tbody tr th {\n",
       "        vertical-align: top;\n",
       "    }\n",
       "\n",
       "    .dataframe thead th {\n",
       "        text-align: right;\n",
       "    }\n",
       "</style>\n",
       "<table border=\"1\" class=\"dataframe\">\n",
       "  <thead>\n",
       "    <tr style=\"text-align: right;\">\n",
       "      <th></th>\n",
       "      <th>domain_name</th>\n",
       "      <th>money</th>\n",
       "      <th>freq</th>\n",
       "      <th>recency</th>\n",
       "      <th>t</th>\n",
       "      <th>CLV</th>\n",
       "      <th>predicted_monetary</th>\n",
       "      <th>xgb_CLV</th>\n",
       "    </tr>\n",
       "  </thead>\n",
       "  <tbody>\n",
       "    <tr>\n",
       "      <th>488</th>\n",
       "      <td>vipecjsc.com.vn</td>\n",
       "      <td>24.00</td>\n",
       "      <td>1</td>\n",
       "      <td>1220</td>\n",
       "      <td>1220</td>\n",
       "      <td>24.00</td>\n",
       "      <td>3202.513447</td>\n",
       "      <td>29.601074</td>\n",
       "    </tr>\n",
       "    <tr>\n",
       "      <th>522</th>\n",
       "      <td>sbcsteel.com</td>\n",
       "      <td>3152.15</td>\n",
       "      <td>42</td>\n",
       "      <td>397</td>\n",
       "      <td>1585</td>\n",
       "      <td>3152.15</td>\n",
       "      <td>3227.801010</td>\n",
       "      <td>3218.180664</td>\n",
       "    </tr>\n",
       "    <tr>\n",
       "      <th>593</th>\n",
       "      <td>cornerstone.com.vn</td>\n",
       "      <td>3018.88</td>\n",
       "      <td>81</td>\n",
       "      <td>2</td>\n",
       "      <td>1585</td>\n",
       "      <td>4242.55</td>\n",
       "      <td>3058.203410</td>\n",
       "      <td>3738.860107</td>\n",
       "    </tr>\n",
       "    <tr>\n",
       "      <th>1117</th>\n",
       "      <td>mywayhotelnhatrang.com</td>\n",
       "      <td>293.96</td>\n",
       "      <td>3</td>\n",
       "      <td>886</td>\n",
       "      <td>1251</td>\n",
       "      <td>293.96</td>\n",
       "      <td>1381.572841</td>\n",
       "      <td>290.244263</td>\n",
       "    </tr>\n",
       "    <tr>\n",
       "      <th>949</th>\n",
       "      <td>hakuta.com.vn</td>\n",
       "      <td>869.55</td>\n",
       "      <td>29</td>\n",
       "      <td>2</td>\n",
       "      <td>1554</td>\n",
       "      <td>1148.43</td>\n",
       "      <td>982.698614</td>\n",
       "      <td>1174.907959</td>\n",
       "    </tr>\n",
       "    <tr>\n",
       "      <th>...</th>\n",
       "      <td>...</td>\n",
       "      <td>...</td>\n",
       "      <td>...</td>\n",
       "      <td>...</td>\n",
       "      <td>...</td>\n",
       "      <td>...</td>\n",
       "      <td>...</td>\n",
       "      <td>...</td>\n",
       "    </tr>\n",
       "    <tr>\n",
       "      <th>841</th>\n",
       "      <td>asianmotors.vn</td>\n",
       "      <td>653.76</td>\n",
       "      <td>17</td>\n",
       "      <td>2</td>\n",
       "      <td>1493</td>\n",
       "      <td>769.10</td>\n",
       "      <td>847.147469</td>\n",
       "      <td>841.138428</td>\n",
       "    </tr>\n",
       "    <tr>\n",
       "      <th>335</th>\n",
       "      <td>nammodelagency.com</td>\n",
       "      <td>455.13</td>\n",
       "      <td>41</td>\n",
       "      <td>2</td>\n",
       "      <td>1585</td>\n",
       "      <td>528.83</td>\n",
       "      <td>535.666858</td>\n",
       "      <td>575.988403</td>\n",
       "    </tr>\n",
       "    <tr>\n",
       "      <th>516</th>\n",
       "      <td>paragoncdst.com.vn</td>\n",
       "      <td>907.88</td>\n",
       "      <td>27</td>\n",
       "      <td>2</td>\n",
       "      <td>1342</td>\n",
       "      <td>1054.27</td>\n",
       "      <td>1029.330014</td>\n",
       "      <td>1190.013916</td>\n",
       "    </tr>\n",
       "    <tr>\n",
       "      <th>936</th>\n",
       "      <td>vn.ids.jp</td>\n",
       "      <td>3656.42</td>\n",
       "      <td>28</td>\n",
       "      <td>977</td>\n",
       "      <td>1585</td>\n",
       "      <td>3656.42</td>\n",
       "      <td>3769.001436</td>\n",
       "      <td>3764.186523</td>\n",
       "    </tr>\n",
       "    <tr>\n",
       "      <th>1580</th>\n",
       "      <td>cores.com.vn</td>\n",
       "      <td>144.37</td>\n",
       "      <td>3</td>\n",
       "      <td>2</td>\n",
       "      <td>124</td>\n",
       "      <td>803.10</td>\n",
       "      <td>1234.256837</td>\n",
       "      <td>758.808655</td>\n",
       "    </tr>\n",
       "  </tbody>\n",
       "</table>\n",
       "<p>1490 rows × 8 columns</p>\n",
       "</div>"
      ],
      "text/plain": [
       "                 domain_name    money  freq  recency     t      CLV  \\\n",
       "488          vipecjsc.com.vn    24.00     1     1220  1220    24.00   \n",
       "522             sbcsteel.com  3152.15    42      397  1585  3152.15   \n",
       "593       cornerstone.com.vn  3018.88    81        2  1585  4242.55   \n",
       "1117  mywayhotelnhatrang.com   293.96     3      886  1251   293.96   \n",
       "949            hakuta.com.vn   869.55    29        2  1554  1148.43   \n",
       "...                      ...      ...   ...      ...   ...      ...   \n",
       "841           asianmotors.vn   653.76    17        2  1493   769.10   \n",
       "335       nammodelagency.com   455.13    41        2  1585   528.83   \n",
       "516       paragoncdst.com.vn   907.88    27        2  1342  1054.27   \n",
       "936                vn.ids.jp  3656.42    28      977  1585  3656.42   \n",
       "1580            cores.com.vn   144.37     3        2   124   803.10   \n",
       "\n",
       "      predicted_monetary      xgb_CLV  \n",
       "488          3202.513447    29.601074  \n",
       "522          3227.801010  3218.180664  \n",
       "593          3058.203410  3738.860107  \n",
       "1117         1381.572841   290.244263  \n",
       "949           982.698614  1174.907959  \n",
       "...                  ...          ...  \n",
       "841           847.147469   841.138428  \n",
       "335           535.666858   575.988403  \n",
       "516          1029.330014  1190.013916  \n",
       "936          3769.001436  3764.186523  \n",
       "1580         1234.256837   758.808655  \n",
       "\n",
       "[1490 rows x 8 columns]"
      ]
     },
     "execution_count": 17,
     "metadata": {},
     "output_type": "execute_result"
    }
   ],
   "source": [
    "train"
   ]
  },
  {
   "cell_type": "code",
   "execution_count": 27,
   "id": "617ad82c",
   "metadata": {},
   "outputs": [],
   "source": [
    "train.to_csv(r'./out.csv', sep='\\t')"
   ]
  },
  {
   "cell_type": "code",
   "execution_count": 28,
   "id": "2c942740",
   "metadata": {},
   "outputs": [],
   "source": [
    "train.to_csv(r'./out2.csv', sep='\\t', encoding='utf-8', header='true')"
   ]
  },
  {
   "cell_type": "code",
   "execution_count": 18,
   "id": "fc8ff862",
   "metadata": {},
   "outputs": [],
   "source": [
    "train.to_csv(r'./out6.csv', encoding='utf-8')"
   ]
  },
  {
   "cell_type": "code",
   "execution_count": 19,
   "id": "86dc8e3f",
   "metadata": {},
   "outputs": [
    {
     "data": {
      "text/html": [
       "<div>\n",
       "<style scoped>\n",
       "    .dataframe tbody tr th:only-of-type {\n",
       "        vertical-align: middle;\n",
       "    }\n",
       "\n",
       "    .dataframe tbody tr th {\n",
       "        vertical-align: top;\n",
       "    }\n",
       "\n",
       "    .dataframe thead th {\n",
       "        text-align: right;\n",
       "    }\n",
       "</style>\n",
       "<table border=\"1\" class=\"dataframe\">\n",
       "  <thead>\n",
       "    <tr style=\"text-align: right;\">\n",
       "      <th></th>\n",
       "      <th>domain_name</th>\n",
       "      <th>money</th>\n",
       "      <th>freq</th>\n",
       "      <th>recency</th>\n",
       "      <th>t</th>\n",
       "      <th>CLV</th>\n",
       "      <th>predicted_monetary</th>\n",
       "      <th>xgb_CLV</th>\n",
       "    </tr>\n",
       "  </thead>\n",
       "  <tbody>\n",
       "    <tr>\n",
       "      <th>488</th>\n",
       "      <td>vipecjsc.com.vn</td>\n",
       "      <td>24.00</td>\n",
       "      <td>1</td>\n",
       "      <td>1220</td>\n",
       "      <td>1220</td>\n",
       "      <td>24.00</td>\n",
       "      <td>3202.513447</td>\n",
       "      <td>29.601074</td>\n",
       "    </tr>\n",
       "    <tr>\n",
       "      <th>522</th>\n",
       "      <td>sbcsteel.com</td>\n",
       "      <td>3152.15</td>\n",
       "      <td>42</td>\n",
       "      <td>397</td>\n",
       "      <td>1585</td>\n",
       "      <td>3152.15</td>\n",
       "      <td>3227.801010</td>\n",
       "      <td>3218.180664</td>\n",
       "    </tr>\n",
       "    <tr>\n",
       "      <th>593</th>\n",
       "      <td>cornerstone.com.vn</td>\n",
       "      <td>3018.88</td>\n",
       "      <td>81</td>\n",
       "      <td>2</td>\n",
       "      <td>1585</td>\n",
       "      <td>4242.55</td>\n",
       "      <td>3058.203410</td>\n",
       "      <td>3738.860107</td>\n",
       "    </tr>\n",
       "    <tr>\n",
       "      <th>1117</th>\n",
       "      <td>mywayhotelnhatrang.com</td>\n",
       "      <td>293.96</td>\n",
       "      <td>3</td>\n",
       "      <td>886</td>\n",
       "      <td>1251</td>\n",
       "      <td>293.96</td>\n",
       "      <td>1381.572841</td>\n",
       "      <td>290.244263</td>\n",
       "    </tr>\n",
       "    <tr>\n",
       "      <th>949</th>\n",
       "      <td>hakuta.com.vn</td>\n",
       "      <td>869.55</td>\n",
       "      <td>29</td>\n",
       "      <td>2</td>\n",
       "      <td>1554</td>\n",
       "      <td>1148.43</td>\n",
       "      <td>982.698614</td>\n",
       "      <td>1174.907959</td>\n",
       "    </tr>\n",
       "    <tr>\n",
       "      <th>...</th>\n",
       "      <td>...</td>\n",
       "      <td>...</td>\n",
       "      <td>...</td>\n",
       "      <td>...</td>\n",
       "      <td>...</td>\n",
       "      <td>...</td>\n",
       "      <td>...</td>\n",
       "      <td>...</td>\n",
       "    </tr>\n",
       "    <tr>\n",
       "      <th>841</th>\n",
       "      <td>asianmotors.vn</td>\n",
       "      <td>653.76</td>\n",
       "      <td>17</td>\n",
       "      <td>2</td>\n",
       "      <td>1493</td>\n",
       "      <td>769.10</td>\n",
       "      <td>847.147469</td>\n",
       "      <td>841.138428</td>\n",
       "    </tr>\n",
       "    <tr>\n",
       "      <th>335</th>\n",
       "      <td>nammodelagency.com</td>\n",
       "      <td>455.13</td>\n",
       "      <td>41</td>\n",
       "      <td>2</td>\n",
       "      <td>1585</td>\n",
       "      <td>528.83</td>\n",
       "      <td>535.666858</td>\n",
       "      <td>575.988403</td>\n",
       "    </tr>\n",
       "    <tr>\n",
       "      <th>516</th>\n",
       "      <td>paragoncdst.com.vn</td>\n",
       "      <td>907.88</td>\n",
       "      <td>27</td>\n",
       "      <td>2</td>\n",
       "      <td>1342</td>\n",
       "      <td>1054.27</td>\n",
       "      <td>1029.330014</td>\n",
       "      <td>1190.013916</td>\n",
       "    </tr>\n",
       "    <tr>\n",
       "      <th>936</th>\n",
       "      <td>vn.ids.jp</td>\n",
       "      <td>3656.42</td>\n",
       "      <td>28</td>\n",
       "      <td>977</td>\n",
       "      <td>1585</td>\n",
       "      <td>3656.42</td>\n",
       "      <td>3769.001436</td>\n",
       "      <td>3764.186523</td>\n",
       "    </tr>\n",
       "    <tr>\n",
       "      <th>1580</th>\n",
       "      <td>cores.com.vn</td>\n",
       "      <td>144.37</td>\n",
       "      <td>3</td>\n",
       "      <td>2</td>\n",
       "      <td>124</td>\n",
       "      <td>803.10</td>\n",
       "      <td>1234.256837</td>\n",
       "      <td>758.808655</td>\n",
       "    </tr>\n",
       "  </tbody>\n",
       "</table>\n",
       "<p>1490 rows × 8 columns</p>\n",
       "</div>"
      ],
      "text/plain": [
       "                 domain_name    money  freq  recency     t      CLV  \\\n",
       "488          vipecjsc.com.vn    24.00     1     1220  1220    24.00   \n",
       "522             sbcsteel.com  3152.15    42      397  1585  3152.15   \n",
       "593       cornerstone.com.vn  3018.88    81        2  1585  4242.55   \n",
       "1117  mywayhotelnhatrang.com   293.96     3      886  1251   293.96   \n",
       "949            hakuta.com.vn   869.55    29        2  1554  1148.43   \n",
       "...                      ...      ...   ...      ...   ...      ...   \n",
       "841           asianmotors.vn   653.76    17        2  1493   769.10   \n",
       "335       nammodelagency.com   455.13    41        2  1585   528.83   \n",
       "516       paragoncdst.com.vn   907.88    27        2  1342  1054.27   \n",
       "936                vn.ids.jp  3656.42    28      977  1585  3656.42   \n",
       "1580            cores.com.vn   144.37     3        2   124   803.10   \n",
       "\n",
       "      predicted_monetary      xgb_CLV  \n",
       "488          3202.513447    29.601074  \n",
       "522          3227.801010  3218.180664  \n",
       "593          3058.203410  3738.860107  \n",
       "1117         1381.572841   290.244263  \n",
       "949           982.698614  1174.907959  \n",
       "...                  ...          ...  \n",
       "841           847.147469   841.138428  \n",
       "335           535.666858   575.988403  \n",
       "516          1029.330014  1190.013916  \n",
       "936          3769.001436  3764.186523  \n",
       "1580         1234.256837   758.808655  \n",
       "\n",
       "[1490 rows x 8 columns]"
      ]
     },
     "execution_count": 19,
     "metadata": {},
     "output_type": "execute_result"
    }
   ],
   "source": [
    "train"
   ]
  },
  {
   "cell_type": "code",
   "execution_count": 20,
   "id": "be0c0128",
   "metadata": {},
   "outputs": [
    {
     "data": {
      "image/png": "[encoded data removed]",
      "text/plain": [
       "<Figure size 432x288 with 1 Axes>"
      ]
     },
     "metadata": {
      "needs_background": "light"
     },
     "output_type": "display_data"
    }
   ],
   "source": [
    "from sklearn.cluster import KMeans\n",
    "clv = train[[\"CLV\"]]\n",
    "ss2 ={}\n",
    "for k in range(1,10):\n",
    "    kmeans2 = KMeans(n_clusters = k, max_iter = 10000).fit(clv)\n",
    "    train[\"clusters\"]=kmeans2.labels_\n",
    "    ss2[k]=kmeans2.inertia_\n",
    "plt.figure()\n",
    "plt.plot(list(ss2.keys()), list(ss2.values()))\n",
    "plt.xlabel(\"Number of cluster\")\n",
    "plt.show()"
   ]
  },
  {
   "cell_type": "code",
   "execution_count": 21,
   "id": "2662dde5",
   "metadata": {},
   "outputs": [],
   "source": [
    "from sklearn.metrics import silhouette_score\n",
    "\n",
    "sil = []\n",
    "kmax = 10\n",
    "\n",
    "#Dissimilarity would not be defined for a single cluster, thus, minimum number of clusters should be 2\n",
    "for k in range(2, kmax+1):\n",
    "  kmeans = KMeans(n_clusters = k).fit(clv)\n",
    "  labels = kmeans.labels_\n",
    "  sil.append(silhouette_score(clv, labels, metric = 'euclidean'))"
   ]
  },
  {
   "cell_type": "code",
   "execution_count": 22,
   "id": "69016719",
   "metadata": {},
   "outputs": [
    {
     "data": {
      "image/png": "[encoded data removed]",
      "text/plain": [
       "<Figure size 432x288 with 1 Axes>"
      ]
     },
     "metadata": {
      "needs_background": "light"
     },
     "output_type": "display_data"
    }
   ],
   "source": [
    "range_n_clusters = [2, 3, 4, 5, 6, 7, 8]\n",
    "silhouette_avg = []\n",
    "for num_clusters in range_n_clusters:\n",
    " \n",
    " #Initialise kmeans\n",
    " kmeans = KMeans(n_clusters=num_clusters)\n",
    " kmeans.fit(clv)\n",
    " cluster_labels = kmeans.labels_\n",
    " \n",
    " #Silhouette score\n",
    " silhouette_avg.append(silhouette_score(clv, cluster_labels))\n",
    "plt.plot(range_n_clusters,silhouette_avg,'bx-')\n",
    "plt.xlabel('Values of K')\n",
    "plt.ylabel('Silhouette score')\n",
    "plt.title('Silhouette analysis For Optimal k')\n",
    "plt.show()"
   ]
  },
  {
   "cell_type": "code",
   "execution_count": 23,
   "id": "1299a8d6",
   "metadata": {},
   "outputs": [
    {
     "data": {
      "text/plain": [
       "KMeans(n_clusters=2)"
      ]
     },
     "execution_count": 23,
     "metadata": {},
     "output_type": "execute_result"
    }
   ],
   "source": [
    "kmeans1 = KMeans(n_clusters=2)\n",
    "kmeans1.fit(clv)"
   ]
  },
  {
   "cell_type": "code",
   "execution_count": 24,
   "id": "41d68389",
   "metadata": {},
   "outputs": [
    {
     "data": {
      "text/plain": [
       "array([[ 1597.73359637],\n",
       "       [21870.47396552]])"
      ]
     },
     "execution_count": 24,
     "metadata": {},
     "output_type": "execute_result"
    }
   ],
   "source": [
    "kmeans1.cluster_centers_"
   ]
  },
  {
   "cell_type": "code",
   "execution_count": 25,
   "id": "ff853445",
   "metadata": {},
   "outputs": [],
   "source": [
    "train[\"clv_labels\"] = kmeans1.labels_"
   ]
  },
  {
   "cell_type": "code",
   "execution_count": 26,
   "id": "ae254e67",
   "metadata": {},
   "outputs": [
    {
     "data": {
      "text/html": [
       "<div>\n",
       "<style scoped>\n",
       "    .dataframe tbody tr th:only-of-type {\n",
       "        vertical-align: middle;\n",
       "    }\n",
       "\n",
       "    .dataframe tbody tr th {\n",
       "        vertical-align: top;\n",
       "    }\n",
       "\n",
       "    .dataframe thead th {\n",
       "        text-align: right;\n",
       "    }\n",
       "</style>\n",
       "<table border=\"1\" class=\"dataframe\">\n",
       "  <thead>\n",
       "    <tr style=\"text-align: right;\">\n",
       "      <th></th>\n",
       "      <th>domain_name</th>\n",
       "      <th>money</th>\n",
       "      <th>freq</th>\n",
       "      <th>recency</th>\n",
       "      <th>t</th>\n",
       "      <th>CLV</th>\n",
       "      <th>predicted_monetary</th>\n",
       "      <th>xgb_CLV</th>\n",
       "      <th>clusters</th>\n",
       "      <th>clv_labels</th>\n",
       "    </tr>\n",
       "  </thead>\n",
       "  <tbody>\n",
       "    <tr>\n",
       "      <th>488</th>\n",
       "      <td>vipecjsc.com.vn</td>\n",
       "      <td>24.00</td>\n",
       "      <td>1</td>\n",
       "      <td>1220</td>\n",
       "      <td>1220</td>\n",
       "      <td>24.00</td>\n",
       "      <td>3202.513447</td>\n",
       "      <td>29.601074</td>\n",
       "      <td>0</td>\n",
       "      <td>0</td>\n",
       "    </tr>\n",
       "    <tr>\n",
       "      <th>522</th>\n",
       "      <td>sbcsteel.com</td>\n",
       "      <td>3152.15</td>\n",
       "      <td>42</td>\n",
       "      <td>397</td>\n",
       "      <td>1585</td>\n",
       "      <td>3152.15</td>\n",
       "      <td>3227.801010</td>\n",
       "      <td>3218.180664</td>\n",
       "      <td>3</td>\n",
       "      <td>0</td>\n",
       "    </tr>\n",
       "    <tr>\n",
       "      <th>593</th>\n",
       "      <td>cornerstone.com.vn</td>\n",
       "      <td>3018.88</td>\n",
       "      <td>81</td>\n",
       "      <td>2</td>\n",
       "      <td>1585</td>\n",
       "      <td>4242.55</td>\n",
       "      <td>3058.203410</td>\n",
       "      <td>3738.860107</td>\n",
       "      <td>3</td>\n",
       "      <td>0</td>\n",
       "    </tr>\n",
       "    <tr>\n",
       "      <th>1117</th>\n",
       "      <td>mywayhotelnhatrang.com</td>\n",
       "      <td>293.96</td>\n",
       "      <td>3</td>\n",
       "      <td>886</td>\n",
       "      <td>1251</td>\n",
       "      <td>293.96</td>\n",
       "      <td>1381.572841</td>\n",
       "      <td>290.244263</td>\n",
       "      <td>0</td>\n",
       "      <td>0</td>\n",
       "    </tr>\n",
       "    <tr>\n",
       "      <th>949</th>\n",
       "      <td>hakuta.com.vn</td>\n",
       "      <td>869.55</td>\n",
       "      <td>29</td>\n",
       "      <td>2</td>\n",
       "      <td>1554</td>\n",
       "      <td>1148.43</td>\n",
       "      <td>982.698614</td>\n",
       "      <td>1174.907959</td>\n",
       "      <td>6</td>\n",
       "      <td>0</td>\n",
       "    </tr>\n",
       "    <tr>\n",
       "      <th>...</th>\n",
       "      <td>...</td>\n",
       "      <td>...</td>\n",
       "      <td>...</td>\n",
       "      <td>...</td>\n",
       "      <td>...</td>\n",
       "      <td>...</td>\n",
       "      <td>...</td>\n",
       "      <td>...</td>\n",
       "      <td>...</td>\n",
       "      <td>...</td>\n",
       "    </tr>\n",
       "    <tr>\n",
       "      <th>841</th>\n",
       "      <td>asianmotors.vn</td>\n",
       "      <td>653.76</td>\n",
       "      <td>17</td>\n",
       "      <td>2</td>\n",
       "      <td>1493</td>\n",
       "      <td>769.10</td>\n",
       "      <td>847.147469</td>\n",
       "      <td>841.138428</td>\n",
       "      <td>0</td>\n",
       "      <td>0</td>\n",
       "    </tr>\n",
       "    <tr>\n",
       "      <th>335</th>\n",
       "      <td>nammodelagency.com</td>\n",
       "      <td>455.13</td>\n",
       "      <td>41</td>\n",
       "      <td>2</td>\n",
       "      <td>1585</td>\n",
       "      <td>528.83</td>\n",
       "      <td>535.666858</td>\n",
       "      <td>575.988403</td>\n",
       "      <td>0</td>\n",
       "      <td>0</td>\n",
       "    </tr>\n",
       "    <tr>\n",
       "      <th>516</th>\n",
       "      <td>paragoncdst.com.vn</td>\n",
       "      <td>907.88</td>\n",
       "      <td>27</td>\n",
       "      <td>2</td>\n",
       "      <td>1342</td>\n",
       "      <td>1054.27</td>\n",
       "      <td>1029.330014</td>\n",
       "      <td>1190.013916</td>\n",
       "      <td>6</td>\n",
       "      <td>0</td>\n",
       "    </tr>\n",
       "    <tr>\n",
       "      <th>936</th>\n",
       "      <td>vn.ids.jp</td>\n",
       "      <td>3656.42</td>\n",
       "      <td>28</td>\n",
       "      <td>977</td>\n",
       "      <td>1585</td>\n",
       "      <td>3656.42</td>\n",
       "      <td>3769.001436</td>\n",
       "      <td>3764.186523</td>\n",
       "      <td>3</td>\n",
       "      <td>0</td>\n",
       "    </tr>\n",
       "    <tr>\n",
       "      <th>1580</th>\n",
       "      <td>cores.com.vn</td>\n",
       "      <td>144.37</td>\n",
       "      <td>3</td>\n",
       "      <td>2</td>\n",
       "      <td>124</td>\n",
       "      <td>803.10</td>\n",
       "      <td>1234.256837</td>\n",
       "      <td>758.808655</td>\n",
       "      <td>0</td>\n",
       "      <td>0</td>\n",
       "    </tr>\n",
       "  </tbody>\n",
       "</table>\n",
       "<p>1490 rows × 10 columns</p>\n",
       "</div>"
      ],
      "text/plain": [
       "                 domain_name    money  freq  recency     t      CLV  \\\n",
       "488          vipecjsc.com.vn    24.00     1     1220  1220    24.00   \n",
       "522             sbcsteel.com  3152.15    42      397  1585  3152.15   \n",
       "593       cornerstone.com.vn  3018.88    81        2  1585  4242.55   \n",
       "1117  mywayhotelnhatrang.com   293.96     3      886  1251   293.96   \n",
       "949            hakuta.com.vn   869.55    29        2  1554  1148.43   \n",
       "...                      ...      ...   ...      ...   ...      ...   \n",
       "841           asianmotors.vn   653.76    17        2  1493   769.10   \n",
       "335       nammodelagency.com   455.13    41        2  1585   528.83   \n",
       "516       paragoncdst.com.vn   907.88    27        2  1342  1054.27   \n",
       "936                vn.ids.jp  3656.42    28      977  1585  3656.42   \n",
       "1580            cores.com.vn   144.37     3        2   124   803.10   \n",
       "\n",
       "      predicted_monetary      xgb_CLV  clusters  clv_labels  \n",
       "488          3202.513447    29.601074         0           0  \n",
       "522          3227.801010  3218.180664         3           0  \n",
       "593          3058.203410  3738.860107         3           0  \n",
       "1117         1381.572841   290.244263         0           0  \n",
       "949           982.698614  1174.907959         6           0  \n",
       "...                  ...          ...       ...         ...  \n",
       "841           847.147469   841.138428         0           0  \n",
       "335           535.666858   575.988403         0           0  \n",
       "516          1029.330014  1190.013916         6           0  \n",
       "936          3769.001436  3764.186523         3           0  \n",
       "1580         1234.256837   758.808655         0           0  \n",
       "\n",
       "[1490 rows x 10 columns]"
      ]
     },
     "execution_count": 26,
     "metadata": {},
     "output_type": "execute_result"
    }
   ],
   "source": [
    "train"
   ]
  },
  {
   "cell_type": "code",
   "execution_count": 27,
   "id": "84898929",
   "metadata": {},
   "outputs": [
    {
     "data": {
      "text/plain": [
       "<AxesSubplot:xlabel='CLV'>"
      ]
     },
     "execution_count": 27,
     "metadata": {},
     "output_type": "execute_result"
    },
    {
     "data": {
      "image/png": "[encoded data removed]",
      "text/plain": [
       "<Figure size 432x288 with 1 Axes>"
      ]
     },
     "metadata": {
      "needs_background": "light"
     },
     "output_type": "display_data"
    }
   ],
   "source": [
    "sns.scatterplot(data = train, x=\"CLV\", y=0, c= kmeans1.labels_, cmap= 'rainbow' )\n",
    "\n",
    "sns.scatterplot(x=kmeans1.cluster_centers_[:, 0], y = 0, c=['black'])"
   ]
  },
  {
   "cell_type": "code",
   "execution_count": 28,
   "id": "dc09b2c8",
   "metadata": {},
   "outputs": [],
   "source": [
    "train.to_csv(r'./out7.csv', encoding='utf-8')"
   ]
  },
  {
   "cell_type": "code",
   "execution_count": 29,
   "id": "261ec003",
   "metadata": {},
   "outputs": [
    {
     "data": {
      "image/png": "[encoded data removed]",
      "text/plain": [
       "<Figure size 432x288 with 1 Axes>"
      ]
     },
     "metadata": {
      "needs_background": "light"
     },
     "output_type": "display_data"
    }
   ],
   "source": [
    "from sklearn.cluster import KMeans\n",
    "clv1 = df[[\"CLV\"]]\n",
    "ss3 ={}\n",
    "for k in range(1,10):\n",
    "    kmeans3 = KMeans(n_clusters = k, max_iter = 10000).fit(clv1)\n",
    "    df[\"clusters\"]=kmeans3.labels_\n",
    "    ss3[k]=kmeans3.inertia_\n",
    "plt.figure()\n",
    "plt.plot(list(ss3.keys()), list(ss3.values()))\n",
    "plt.xlabel(\"Number of cluster\")\n",
    "plt.show()"
   ]
  },
  {
   "cell_type": "code",
   "execution_count": 30,
   "id": "6bbaa49a",
   "metadata": {},
   "outputs": [
    {
     "data": {
      "image/png": "[encoded data removed]",
      "text/plain": [
       "<Figure size 432x288 with 1 Axes>"
      ]
     },
     "metadata": {
      "needs_background": "light"
     },
     "output_type": "display_data"
    }
   ],
   "source": [
    "range_n_clusters = [2, 3, 4, 5, 6, 7, 8]\n",
    "silhouette_avg = []\n",
    "for num_clusters in range_n_clusters:\n",
    " \n",
    " #Initialise kmeans\n",
    " kmeans5 = KMeans(n_clusters=num_clusters)\n",
    " kmeans5.fit(clv1)\n",
    " cluster_labels = kmeans5.labels_\n",
    " \n",
    " #Silhouette score\n",
    " silhouette_avg.append(silhouette_score(clv1, cluster_labels))\n",
    "plt.plot(range_n_clusters,silhouette_avg,'bx-')\n",
    "plt.xlabel('Values of K')\n",
    "plt.ylabel('Silhouette score')\n",
    "plt.title('Silhouette analysis For Optimal k')\n",
    "plt.show()"
   ]
  },
  {
   "cell_type": "code",
   "execution_count": 31,
   "id": "c194a8cd",
   "metadata": {},
   "outputs": [
    {
     "data": {
      "text/plain": [
       "KMeans(n_clusters=2)"
      ]
     },
     "execution_count": 31,
     "metadata": {},
     "output_type": "execute_result"
    }
   ],
   "source": [
    "kmeans2 = KMeans(n_clusters=2)\n",
    "kmeans2.fit(clv1)"
   ]
  },
  {
   "cell_type": "code",
   "execution_count": 32,
   "id": "a7d95f74",
   "metadata": {},
   "outputs": [
    {
     "data": {
      "text/plain": [
       "array([[ 1447.20703641],\n",
       "       [18438.73171429]])"
      ]
     },
     "execution_count": 32,
     "metadata": {},
     "output_type": "execute_result"
    }
   ],
   "source": [
    "kmeans2.cluster_centers_"
   ]
  },
  {
   "cell_type": "code",
   "execution_count": 33,
   "id": "a9e5c770",
   "metadata": {},
   "outputs": [],
   "source": [
    "df[\"clv_labels\"] = kmeans2.labels_"
   ]
  },
  {
   "cell_type": "code",
   "execution_count": 34,
   "id": "774c5084",
   "metadata": {},
   "outputs": [
    {
     "data": {
      "text/plain": [
       "<AxesSubplot:xlabel='CLV'>"
      ]
     },
     "execution_count": 34,
     "metadata": {},
     "output_type": "execute_result"
    },
    {
     "data": {
      "image/png": "[encoded data removed]",
      "text/plain": [
       "<Figure size 432x288 with 1 Axes>"
      ]
     },
     "metadata": {
      "needs_background": "light"
     },
     "output_type": "display_data"
    }
   ],
   "source": [
    "sns.scatterplot(data = df, x=\"CLV\", y=0, c= kmeans2.labels_, cmap= 'rainbow' )\n",
    "\n",
    "sns.scatterplot(x=kmeans1.cluster_centers_[:, 0], y = 0, c=['black'])"
   ]
  },
  {
   "cell_type": "code",
   "execution_count": 35,
   "id": "ace035d2",
   "metadata": {},
   "outputs": [],
   "source": [
    "df.to_csv(r'./out8.csv', encoding='utf-8')"
   ]
  },
  {
   "cell_type": "code",
   "execution_count": 3,
   "id": "ed16e757",
   "metadata": {},
   "outputs": [],
   "source": [
    "tk_sub = tk[[\"card_number\",\"tk_issdate\", \"fare_total\"]]"
   ]
  },
  {
   "cell_type": "code",
   "execution_count": 4,
   "id": "b2b3681e",
   "metadata": {},
   "outputs": [],
   "source": [
    "tk = tk_sub"
   ]
  },
  {
   "cell_type": "code",
   "execution_count": 5,
   "id": "9a4f78ec",
   "metadata": {},
   "outputs": [
    {
     "data": {
      "text/html": [
       "<div>\n",
       "<style scoped>\n",
       "    .dataframe tbody tr th:only-of-type {\n",
       "        vertical-align: middle;\n",
       "    }\n",
       "\n",
       "    .dataframe tbody tr th {\n",
       "        vertical-align: top;\n",
       "    }\n",
       "\n",
       "    .dataframe thead th {\n",
       "        text-align: right;\n",
       "    }\n",
       "</style>\n",
       "<table border=\"1\" class=\"dataframe\">\n",
       "  <thead>\n",
       "    <tr style=\"text-align: right;\">\n",
       "      <th></th>\n",
       "      <th>card_number</th>\n",
       "      <th>tk_issdate</th>\n",
       "      <th>fare_total</th>\n",
       "    </tr>\n",
       "  </thead>\n",
       "  <tbody>\n",
       "    <tr>\n",
       "      <th>0</th>\n",
       "      <td>93166682.0</td>\n",
       "      <td>2020-09-27</td>\n",
       "      <td>1290000.0</td>\n",
       "    </tr>\n",
       "    <tr>\n",
       "      <th>1</th>\n",
       "      <td>9200251591.0</td>\n",
       "      <td>2020-07-20</td>\n",
       "      <td>1470000.0</td>\n",
       "    </tr>\n",
       "    <tr>\n",
       "      <th>2</th>\n",
       "      <td>9101332968.0</td>\n",
       "      <td>2021-12-21</td>\n",
       "      <td>1495000.0</td>\n",
       "    </tr>\n",
       "    <tr>\n",
       "      <th>3</th>\n",
       "      <td>9200335332.0</td>\n",
       "      <td>2021-03-11</td>\n",
       "      <td>9581000.0</td>\n",
       "    </tr>\n",
       "    <tr>\n",
       "      <th>4</th>\n",
       "      <td>98319512.0</td>\n",
       "      <td>2020-08-25</td>\n",
       "      <td>1730000.0</td>\n",
       "    </tr>\n",
       "    <tr>\n",
       "      <th>...</th>\n",
       "      <td>...</td>\n",
       "      <td>...</td>\n",
       "      <td>...</td>\n",
       "    </tr>\n",
       "    <tr>\n",
       "      <th>26997</th>\n",
       "      <td>9000076843.0</td>\n",
       "      <td>2020-12-30</td>\n",
       "      <td>5980000.0</td>\n",
       "    </tr>\n",
       "    <tr>\n",
       "      <th>26998</th>\n",
       "      <td>94183123.0</td>\n",
       "      <td>2020-08-19</td>\n",
       "      <td>5980000.0</td>\n",
       "    </tr>\n",
       "    <tr>\n",
       "      <th>26999</th>\n",
       "      <td>99234652.0</td>\n",
       "      <td>2020-09-10</td>\n",
       "      <td>5980000.0</td>\n",
       "    </tr>\n",
       "    <tr>\n",
       "      <th>27000</th>\n",
       "      <td>90121878.0</td>\n",
       "      <td>2020-12-23</td>\n",
       "      <td>5980000.0</td>\n",
       "    </tr>\n",
       "    <tr>\n",
       "      <th>27001</th>\n",
       "      <td>9401157827.0</td>\n",
       "      <td>2021-01-29</td>\n",
       "      <td>5980000.0</td>\n",
       "    </tr>\n",
       "  </tbody>\n",
       "</table>\n",
       "<p>27002 rows × 3 columns</p>\n",
       "</div>"
      ],
      "text/plain": [
       "        card_number tk_issdate  fare_total\n",
       "0        93166682.0 2020-09-27   1290000.0\n",
       "1      9200251591.0 2020-07-20   1470000.0\n",
       "2      9101332968.0 2021-12-21   1495000.0\n",
       "3      9200335332.0 2021-03-11   9581000.0\n",
       "4        98319512.0 2020-08-25   1730000.0\n",
       "...             ...        ...         ...\n",
       "26997  9000076843.0 2020-12-30   5980000.0\n",
       "26998    94183123.0 2020-08-19   5980000.0\n",
       "26999    99234652.0 2020-09-10   5980000.0\n",
       "27000    90121878.0 2020-12-23   5980000.0\n",
       "27001  9401157827.0 2021-01-29   5980000.0\n",
       "\n",
       "[27002 rows x 3 columns]"
      ]
     },
     "execution_count": 5,
     "metadata": {},
     "output_type": "execute_result"
    }
   ],
   "source": [
    "tk"
   ]
  },
  {
   "cell_type": "code",
   "execution_count": 6,
   "id": "859ce39f",
   "metadata": {},
   "outputs": [],
   "source": [
    "tk_train = tk[tk[\"tk_issdate\"].astype(str).str[:4] != '2022']"
   ]
  },
  {
   "cell_type": "code",
   "execution_count": 7,
   "id": "9400c8f9",
   "metadata": {},
   "outputs": [
    {
     "name": "stdout",
     "output_type": "stream",
     "text": [
      "<class 'pandas.core.frame.DataFrame'>\n",
      "Int64Index: 21625 entries, 0 to 27001\n",
      "Data columns (total 3 columns):\n",
      " #   Column       Non-Null Count  Dtype         \n",
      "---  ------       --------------  -----         \n",
      " 0   card_number  21625 non-null  object        \n",
      " 1   tk_issdate   21625 non-null  datetime64[ns]\n",
      " 2   fare_total   21625 non-null  float64       \n",
      "dtypes: datetime64[ns](1), float64(1), object(1)\n",
      "memory usage: 675.8+ KB\n"
     ]
    }
   ],
   "source": [
    "tk_train.info()"
   ]
  },
  {
   "cell_type": "code",
   "execution_count": 8,
   "id": "6e7cb8d6",
   "metadata": {},
   "outputs": [],
   "source": [
    "tk_target = tk"
   ]
  },
  {
   "cell_type": "code",
   "execution_count": 9,
   "id": "e7e41989",
   "metadata": {},
   "outputs": [
    {
     "name": "stdout",
     "output_type": "stream",
     "text": [
      "<class 'pandas.core.frame.DataFrame'>\n",
      "RangeIndex: 27002 entries, 0 to 27001\n",
      "Data columns (total 3 columns):\n",
      " #   Column       Non-Null Count  Dtype         \n",
      "---  ------       --------------  -----         \n",
      " 0   card_number  27002 non-null  object        \n",
      " 1   tk_issdate   27002 non-null  datetime64[ns]\n",
      " 2   fare_total   27002 non-null  float64       \n",
      "dtypes: datetime64[ns](1), float64(1), object(1)\n",
      "memory usage: 633.0+ KB\n"
     ]
    }
   ],
   "source": [
    "tk_target.info()"
   ]
  },
  {
   "cell_type": "code",
   "execution_count": 10,
   "id": "f1887505",
   "metadata": {},
   "outputs": [],
   "source": [
    "max_date = tk_train[\"tk_issdate\"].max()"
   ]
  },
  {
   "cell_type": "code",
   "execution_count": 11,
   "id": "1b96677b",
   "metadata": {},
   "outputs": [
    {
     "data": {
      "text/plain": [
       "Timestamp('2021-12-31 00:00:00')"
      ]
     },
     "execution_count": 11,
     "metadata": {},
     "output_type": "execute_result"
    }
   ],
   "source": [
    "max_date"
   ]
  },
  {
   "cell_type": "code",
   "execution_count": 12,
   "id": "c7df8703",
   "metadata": {},
   "outputs": [],
   "source": [
    "statis_recency_ft = tk_train[[\"card_number\", \"tk_issdate\"]].groupby(\"card_number\").apply(lambda x: (x[\"tk_issdate\"].max() - x[\"tk_issdate\"].min()) / pd.to_timedelta(1,\"day\")).to_frame().set_axis([\"statis_recency\"], axis = 1)"
   ]
  },
  {
   "cell_type": "code",
   "execution_count": 13,
   "id": "f2a20d22",
   "metadata": {},
   "outputs": [
    {
     "data": {
      "text/html": [
       "<div>\n",
       "<style scoped>\n",
       "    .dataframe tbody tr th:only-of-type {\n",
       "        vertical-align: middle;\n",
       "    }\n",
       "\n",
       "    .dataframe tbody tr th {\n",
       "        vertical-align: top;\n",
       "    }\n",
       "\n",
       "    .dataframe thead th {\n",
       "        text-align: right;\n",
       "    }\n",
       "</style>\n",
       "<table border=\"1\" class=\"dataframe\">\n",
       "  <thead>\n",
       "    <tr style=\"text-align: right;\">\n",
       "      <th></th>\n",
       "      <th>statis_recency</th>\n",
       "    </tr>\n",
       "    <tr>\n",
       "      <th>card_number</th>\n",
       "      <th></th>\n",
       "    </tr>\n",
       "  </thead>\n",
       "  <tbody>\n",
       "    <tr>\n",
       "      <th>90005806.0</th>\n",
       "      <td>442.0</td>\n",
       "    </tr>\n",
       "    <tr>\n",
       "      <th>90009340.0</th>\n",
       "      <td>299.0</td>\n",
       "    </tr>\n",
       "    <tr>\n",
       "      <th>90021926.0</th>\n",
       "      <td>514.0</td>\n",
       "    </tr>\n",
       "    <tr>\n",
       "      <th>90024258.0</th>\n",
       "      <td>472.0</td>\n",
       "    </tr>\n",
       "    <tr>\n",
       "      <th>90025237.0</th>\n",
       "      <td>421.0</td>\n",
       "    </tr>\n",
       "    <tr>\n",
       "      <th>...</th>\n",
       "      <td>...</td>\n",
       "    </tr>\n",
       "    <tr>\n",
       "      <th>116818083237.0</th>\n",
       "      <td>84.0</td>\n",
       "    </tr>\n",
       "    <tr>\n",
       "      <th>180007059511.0</th>\n",
       "      <td>239.0</td>\n",
       "    </tr>\n",
       "    <tr>\n",
       "      <th>513629874998.0</th>\n",
       "      <td>1.0</td>\n",
       "    </tr>\n",
       "    <tr>\n",
       "      <th>514528869941.0</th>\n",
       "      <td>61.0</td>\n",
       "    </tr>\n",
       "    <tr>\n",
       "      <th>WB5102177</th>\n",
       "      <td>0.0</td>\n",
       "    </tr>\n",
       "  </tbody>\n",
       "</table>\n",
       "<p>921 rows × 1 columns</p>\n",
       "</div>"
      ],
      "text/plain": [
       "                statis_recency\n",
       "card_number                   \n",
       "90005806.0               442.0\n",
       "90009340.0               299.0\n",
       "90021926.0               514.0\n",
       "90024258.0               472.0\n",
       "90025237.0               421.0\n",
       "...                        ...\n",
       "116818083237.0            84.0\n",
       "180007059511.0           239.0\n",
       "513629874998.0             1.0\n",
       "514528869941.0            61.0\n",
       "WB5102177                  0.0\n",
       "\n",
       "[921 rows x 1 columns]"
      ]
     },
     "execution_count": 13,
     "metadata": {},
     "output_type": "execute_result"
    }
   ],
   "source": [
    "statis_recency_ft"
   ]
  },
  {
   "cell_type": "code",
   "execution_count": 14,
   "id": "d6e8fbe9",
   "metadata": {},
   "outputs": [],
   "source": [
    "frequency_ft = tk_train[[\"card_number\", \"tk_issdate\"]].groupby(\"card_number\").count().set_axis([\"frequency\"], axis = 1)"
   ]
  },
  {
   "cell_type": "code",
   "execution_count": 15,
   "id": "ee03ddd2",
   "metadata": {},
   "outputs": [
    {
     "data": {
      "text/html": [
       "<div>\n",
       "<style scoped>\n",
       "    .dataframe tbody tr th:only-of-type {\n",
       "        vertical-align: middle;\n",
       "    }\n",
       "\n",
       "    .dataframe tbody tr th {\n",
       "        vertical-align: top;\n",
       "    }\n",
       "\n",
       "    .dataframe thead th {\n",
       "        text-align: right;\n",
       "    }\n",
       "</style>\n",
       "<table border=\"1\" class=\"dataframe\">\n",
       "  <thead>\n",
       "    <tr style=\"text-align: right;\">\n",
       "      <th></th>\n",
       "      <th>frequency</th>\n",
       "    </tr>\n",
       "    <tr>\n",
       "      <th>card_number</th>\n",
       "      <th></th>\n",
       "    </tr>\n",
       "  </thead>\n",
       "  <tbody>\n",
       "    <tr>\n",
       "      <th>90005806.0</th>\n",
       "      <td>9</td>\n",
       "    </tr>\n",
       "    <tr>\n",
       "      <th>90009340.0</th>\n",
       "      <td>25</td>\n",
       "    </tr>\n",
       "    <tr>\n",
       "      <th>90021926.0</th>\n",
       "      <td>42</td>\n",
       "    </tr>\n",
       "    <tr>\n",
       "      <th>90024258.0</th>\n",
       "      <td>31</td>\n",
       "    </tr>\n",
       "    <tr>\n",
       "      <th>90025237.0</th>\n",
       "      <td>13</td>\n",
       "    </tr>\n",
       "    <tr>\n",
       "      <th>...</th>\n",
       "      <td>...</td>\n",
       "    </tr>\n",
       "    <tr>\n",
       "      <th>116818083237.0</th>\n",
       "      <td>5</td>\n",
       "    </tr>\n",
       "    <tr>\n",
       "      <th>180007059511.0</th>\n",
       "      <td>2</td>\n",
       "    </tr>\n",
       "    <tr>\n",
       "      <th>513629874998.0</th>\n",
       "      <td>2</td>\n",
       "    </tr>\n",
       "    <tr>\n",
       "      <th>514528869941.0</th>\n",
       "      <td>11</td>\n",
       "    </tr>\n",
       "    <tr>\n",
       "      <th>WB5102177</th>\n",
       "      <td>2</td>\n",
       "    </tr>\n",
       "  </tbody>\n",
       "</table>\n",
       "<p>921 rows × 1 columns</p>\n",
       "</div>"
      ],
      "text/plain": [
       "                frequency\n",
       "card_number              \n",
       "90005806.0              9\n",
       "90009340.0             25\n",
       "90021926.0             42\n",
       "90024258.0             31\n",
       "90025237.0             13\n",
       "...                   ...\n",
       "116818083237.0          5\n",
       "180007059511.0          2\n",
       "513629874998.0          2\n",
       "514528869941.0         11\n",
       "WB5102177               2\n",
       "\n",
       "[921 rows x 1 columns]"
      ]
     },
     "execution_count": 15,
     "metadata": {},
     "output_type": "execute_result"
    }
   ],
   "source": [
    "frequency_ft"
   ]
  },
  {
   "cell_type": "code",
   "execution_count": 16,
   "id": "48c174c2",
   "metadata": {},
   "outputs": [],
   "source": [
    "monetary_ft = tk_train[[\"card_number\", \"fare_total\"]].groupby(\"card_number\").sum().set_axis([\"monetary\"], axis = 1)"
   ]
  },
  {
   "cell_type": "code",
   "execution_count": 17,
   "id": "0ca0b794",
   "metadata": {},
   "outputs": [],
   "source": [
    "marketing_recency_ft = tk_train[[\"card_number\", \"tk_issdate\"]].groupby(\"card_number\").apply(lambda x: (max_date - x[\"tk_issdate\"].max()) / pd.to_timedelta(1,\"day\")).to_frame().set_axis([\"mkt_recency\"], axis = 1)"
   ]
  },
  {
   "cell_type": "code",
   "execution_count": 18,
   "id": "9edf38e1",
   "metadata": {},
   "outputs": [
    {
     "data": {
      "text/html": [
       "<div>\n",
       "<style scoped>\n",
       "    .dataframe tbody tr th:only-of-type {\n",
       "        vertical-align: middle;\n",
       "    }\n",
       "\n",
       "    .dataframe tbody tr th {\n",
       "        vertical-align: top;\n",
       "    }\n",
       "\n",
       "    .dataframe thead th {\n",
       "        text-align: right;\n",
       "    }\n",
       "</style>\n",
       "<table border=\"1\" class=\"dataframe\">\n",
       "  <thead>\n",
       "    <tr style=\"text-align: right;\">\n",
       "      <th></th>\n",
       "      <th>mkt_recency</th>\n",
       "    </tr>\n",
       "    <tr>\n",
       "      <th>card_number</th>\n",
       "      <th></th>\n",
       "    </tr>\n",
       "  </thead>\n",
       "  <tbody>\n",
       "    <tr>\n",
       "      <th>90005806.0</th>\n",
       "      <td>2.0</td>\n",
       "    </tr>\n",
       "    <tr>\n",
       "      <th>90009340.0</th>\n",
       "      <td>240.0</td>\n",
       "    </tr>\n",
       "    <tr>\n",
       "      <th>90021926.0</th>\n",
       "      <td>13.0</td>\n",
       "    </tr>\n",
       "    <tr>\n",
       "      <th>90024258.0</th>\n",
       "      <td>0.0</td>\n",
       "    </tr>\n",
       "    <tr>\n",
       "      <th>90025237.0</th>\n",
       "      <td>16.0</td>\n",
       "    </tr>\n",
       "    <tr>\n",
       "      <th>...</th>\n",
       "      <td>...</td>\n",
       "    </tr>\n",
       "    <tr>\n",
       "      <th>116818083237.0</th>\n",
       "      <td>350.0</td>\n",
       "    </tr>\n",
       "    <tr>\n",
       "      <th>180007059511.0</th>\n",
       "      <td>21.0</td>\n",
       "    </tr>\n",
       "    <tr>\n",
       "      <th>513629874998.0</th>\n",
       "      <td>519.0</td>\n",
       "    </tr>\n",
       "    <tr>\n",
       "      <th>514528869941.0</th>\n",
       "      <td>188.0</td>\n",
       "    </tr>\n",
       "    <tr>\n",
       "      <th>WB5102177</th>\n",
       "      <td>520.0</td>\n",
       "    </tr>\n",
       "  </tbody>\n",
       "</table>\n",
       "<p>921 rows × 1 columns</p>\n",
       "</div>"
      ],
      "text/plain": [
       "                mkt_recency\n",
       "card_number                \n",
       "90005806.0              2.0\n",
       "90009340.0            240.0\n",
       "90021926.0             13.0\n",
       "90024258.0              0.0\n",
       "90025237.0             16.0\n",
       "...                     ...\n",
       "116818083237.0        350.0\n",
       "180007059511.0         21.0\n",
       "513629874998.0        519.0\n",
       "514528869941.0        188.0\n",
       "WB5102177             520.0\n",
       "\n",
       "[921 rows x 1 columns]"
      ]
     },
     "execution_count": 18,
     "metadata": {},
     "output_type": "execute_result"
    }
   ],
   "source": [
    "marketing_recency_ft"
   ]
  },
  {
   "cell_type": "code",
   "execution_count": 19,
   "id": "d6c7c710",
   "metadata": {},
   "outputs": [],
   "source": [
    "features = pd.concat((statis_recency_ft, frequency_ft, monetary_ft, marketing_recency_ft), axis = 1).merge(tk_target, left_index = True, right_index = True, how = \"left\").fillna(0)"
   ]
  },
  {
   "cell_type": "code",
   "execution_count": 20,
   "id": "156c4916",
   "metadata": {},
   "outputs": [],
   "source": [
    "features = features.drop(columns=['fare_total'])"
   ]
  },
  {
   "cell_type": "code",
   "execution_count": 21,
   "id": "84467f7c",
   "metadata": {
    "scrolled": true
   },
   "outputs": [
    {
     "data": {
      "text/html": [
       "<div>\n",
       "<style scoped>\n",
       "    .dataframe tbody tr th:only-of-type {\n",
       "        vertical-align: middle;\n",
       "    }\n",
       "\n",
       "    .dataframe tbody tr th {\n",
       "        vertical-align: top;\n",
       "    }\n",
       "\n",
       "    .dataframe thead th {\n",
       "        text-align: right;\n",
       "    }\n",
       "</style>\n",
       "<table border=\"1\" class=\"dataframe\">\n",
       "  <thead>\n",
       "    <tr style=\"text-align: right;\">\n",
       "      <th></th>\n",
       "      <th>statis_recency</th>\n",
       "      <th>frequency</th>\n",
       "      <th>monetary</th>\n",
       "      <th>mkt_recency</th>\n",
       "      <th>card_number</th>\n",
       "      <th>tk_issdate</th>\n",
       "    </tr>\n",
       "    <tr>\n",
       "      <th>card_number</th>\n",
       "      <th></th>\n",
       "      <th></th>\n",
       "      <th></th>\n",
       "      <th></th>\n",
       "      <th></th>\n",
       "      <th></th>\n",
       "    </tr>\n",
       "  </thead>\n",
       "  <tbody>\n",
       "    <tr>\n",
       "      <th>90005806.0</th>\n",
       "      <td>442.0</td>\n",
       "      <td>9</td>\n",
       "      <td>16693000.0</td>\n",
       "      <td>2.0</td>\n",
       "      <td>0</td>\n",
       "      <td>0</td>\n",
       "    </tr>\n",
       "    <tr>\n",
       "      <th>90009340.0</th>\n",
       "      <td>299.0</td>\n",
       "      <td>25</td>\n",
       "      <td>78021000.0</td>\n",
       "      <td>240.0</td>\n",
       "      <td>0</td>\n",
       "      <td>0</td>\n",
       "    </tr>\n",
       "    <tr>\n",
       "      <th>90021926.0</th>\n",
       "      <td>514.0</td>\n",
       "      <td>42</td>\n",
       "      <td>69822000.0</td>\n",
       "      <td>13.0</td>\n",
       "      <td>0</td>\n",
       "      <td>0</td>\n",
       "    </tr>\n",
       "    <tr>\n",
       "      <th>90024258.0</th>\n",
       "      <td>472.0</td>\n",
       "      <td>31</td>\n",
       "      <td>132220000.0</td>\n",
       "      <td>0.0</td>\n",
       "      <td>0</td>\n",
       "      <td>0</td>\n",
       "    </tr>\n",
       "    <tr>\n",
       "      <th>90025237.0</th>\n",
       "      <td>421.0</td>\n",
       "      <td>13</td>\n",
       "      <td>15045000.0</td>\n",
       "      <td>16.0</td>\n",
       "      <td>0</td>\n",
       "      <td>0</td>\n",
       "    </tr>\n",
       "    <tr>\n",
       "      <th>...</th>\n",
       "      <td>...</td>\n",
       "      <td>...</td>\n",
       "      <td>...</td>\n",
       "      <td>...</td>\n",
       "      <td>...</td>\n",
       "      <td>...</td>\n",
       "    </tr>\n",
       "    <tr>\n",
       "      <th>116818083237.0</th>\n",
       "      <td>84.0</td>\n",
       "      <td>5</td>\n",
       "      <td>10943000.0</td>\n",
       "      <td>350.0</td>\n",
       "      <td>0</td>\n",
       "      <td>0</td>\n",
       "    </tr>\n",
       "    <tr>\n",
       "      <th>180007059511.0</th>\n",
       "      <td>239.0</td>\n",
       "      <td>2</td>\n",
       "      <td>6832000.0</td>\n",
       "      <td>21.0</td>\n",
       "      <td>0</td>\n",
       "      <td>0</td>\n",
       "    </tr>\n",
       "    <tr>\n",
       "      <th>513629874998.0</th>\n",
       "      <td>1.0</td>\n",
       "      <td>2</td>\n",
       "      <td>2680000.0</td>\n",
       "      <td>519.0</td>\n",
       "      <td>0</td>\n",
       "      <td>0</td>\n",
       "    </tr>\n",
       "    <tr>\n",
       "      <th>514528869941.0</th>\n",
       "      <td>61.0</td>\n",
       "      <td>11</td>\n",
       "      <td>16256000.0</td>\n",
       "      <td>188.0</td>\n",
       "      <td>0</td>\n",
       "      <td>0</td>\n",
       "    </tr>\n",
       "    <tr>\n",
       "      <th>WB5102177</th>\n",
       "      <td>0.0</td>\n",
       "      <td>2</td>\n",
       "      <td>0.0</td>\n",
       "      <td>520.0</td>\n",
       "      <td>0</td>\n",
       "      <td>0</td>\n",
       "    </tr>\n",
       "  </tbody>\n",
       "</table>\n",
       "<p>921 rows × 6 columns</p>\n",
       "</div>"
      ],
      "text/plain": [
       "                statis_recency  frequency     monetary  mkt_recency  \\\n",
       "card_number                                                           \n",
       "90005806.0               442.0          9   16693000.0          2.0   \n",
       "90009340.0               299.0         25   78021000.0        240.0   \n",
       "90021926.0               514.0         42   69822000.0         13.0   \n",
       "90024258.0               472.0         31  132220000.0          0.0   \n",
       "90025237.0               421.0         13   15045000.0         16.0   \n",
       "...                        ...        ...          ...          ...   \n",
       "116818083237.0            84.0          5   10943000.0        350.0   \n",
       "180007059511.0           239.0          2    6832000.0         21.0   \n",
       "513629874998.0             1.0          2    2680000.0        519.0   \n",
       "514528869941.0            61.0         11   16256000.0        188.0   \n",
       "WB5102177                  0.0          2          0.0        520.0   \n",
       "\n",
       "                card_number  tk_issdate  \n",
       "card_number                              \n",
       "90005806.0                0           0  \n",
       "90009340.0                0           0  \n",
       "90021926.0                0           0  \n",
       "90024258.0                0           0  \n",
       "90025237.0                0           0  \n",
       "...                     ...         ...  \n",
       "116818083237.0            0           0  \n",
       "180007059511.0            0           0  \n",
       "513629874998.0            0           0  \n",
       "514528869941.0            0           0  \n",
       "WB5102177                 0           0  \n",
       "\n",
       "[921 rows x 6 columns]"
      ]
     },
     "execution_count": 21,
     "metadata": {},
     "output_type": "execute_result"
    }
   ],
   "source": [
    "features"
   ]
  },
  {
   "cell_type": "code",
   "execution_count": 22,
   "id": "6319a57a",
   "metadata": {},
   "outputs": [],
   "source": [
    "features[\"monetary_avg\"] = features[\"monetary\"]/features[\"frequency\"]"
   ]
  },
  {
   "cell_type": "code",
   "execution_count": 23,
   "id": "184dfc84",
   "metadata": {},
   "outputs": [],
   "source": [
    "customer_age_ft = tk_train[[\"card_number\", \"tk_issdate\"]].groupby(\"card_number\").apply(lambda x: (max_date - x[\"tk_issdate\"].min()) / pd.to_timedelta(1,\"day\")).to_frame().set_axis([\"mkt_recency\"], axis = 1)"
   ]
  },
  {
   "cell_type": "code",
   "execution_count": 24,
   "id": "36197e30",
   "metadata": {},
   "outputs": [],
   "source": [
    "features[\"customer_age\"]=customer_age_ft[\"mkt_recency\"]"
   ]
  },
  {
   "cell_type": "code",
   "execution_count": 25,
   "id": "4f3f6c74",
   "metadata": {},
   "outputs": [
    {
     "data": {
      "text/html": [
       "<div>\n",
       "<style scoped>\n",
       "    .dataframe tbody tr th:only-of-type {\n",
       "        vertical-align: middle;\n",
       "    }\n",
       "\n",
       "    .dataframe tbody tr th {\n",
       "        vertical-align: top;\n",
       "    }\n",
       "\n",
       "    .dataframe thead th {\n",
       "        text-align: right;\n",
       "    }\n",
       "</style>\n",
       "<table border=\"1\" class=\"dataframe\">\n",
       "  <thead>\n",
       "    <tr style=\"text-align: right;\">\n",
       "      <th></th>\n",
       "      <th>card_number</th>\n",
       "      <th>tk_issdate</th>\n",
       "      <th>fare_total</th>\n",
       "    </tr>\n",
       "  </thead>\n",
       "  <tbody>\n",
       "    <tr>\n",
       "      <th>0</th>\n",
       "      <td>93166682.0</td>\n",
       "      <td>2020-09-27</td>\n",
       "      <td>1290000.0</td>\n",
       "    </tr>\n",
       "    <tr>\n",
       "      <th>1</th>\n",
       "      <td>9200251591.0</td>\n",
       "      <td>2020-07-20</td>\n",
       "      <td>1470000.0</td>\n",
       "    </tr>\n",
       "    <tr>\n",
       "      <th>2</th>\n",
       "      <td>9101332968.0</td>\n",
       "      <td>2021-12-21</td>\n",
       "      <td>1495000.0</td>\n",
       "    </tr>\n",
       "    <tr>\n",
       "      <th>3</th>\n",
       "      <td>9200335332.0</td>\n",
       "      <td>2021-03-11</td>\n",
       "      <td>9581000.0</td>\n",
       "    </tr>\n",
       "    <tr>\n",
       "      <th>4</th>\n",
       "      <td>98319512.0</td>\n",
       "      <td>2020-08-25</td>\n",
       "      <td>1730000.0</td>\n",
       "    </tr>\n",
       "    <tr>\n",
       "      <th>...</th>\n",
       "      <td>...</td>\n",
       "      <td>...</td>\n",
       "      <td>...</td>\n",
       "    </tr>\n",
       "    <tr>\n",
       "      <th>26997</th>\n",
       "      <td>9000076843.0</td>\n",
       "      <td>2020-12-30</td>\n",
       "      <td>5980000.0</td>\n",
       "    </tr>\n",
       "    <tr>\n",
       "      <th>26998</th>\n",
       "      <td>94183123.0</td>\n",
       "      <td>2020-08-19</td>\n",
       "      <td>5980000.0</td>\n",
       "    </tr>\n",
       "    <tr>\n",
       "      <th>26999</th>\n",
       "      <td>99234652.0</td>\n",
       "      <td>2020-09-10</td>\n",
       "      <td>5980000.0</td>\n",
       "    </tr>\n",
       "    <tr>\n",
       "      <th>27000</th>\n",
       "      <td>90121878.0</td>\n",
       "      <td>2020-12-23</td>\n",
       "      <td>5980000.0</td>\n",
       "    </tr>\n",
       "    <tr>\n",
       "      <th>27001</th>\n",
       "      <td>9401157827.0</td>\n",
       "      <td>2021-01-29</td>\n",
       "      <td>5980000.0</td>\n",
       "    </tr>\n",
       "  </tbody>\n",
       "</table>\n",
       "<p>27002 rows × 3 columns</p>\n",
       "</div>"
      ],
      "text/plain": [
       "        card_number tk_issdate  fare_total\n",
       "0        93166682.0 2020-09-27   1290000.0\n",
       "1      9200251591.0 2020-07-20   1470000.0\n",
       "2      9101332968.0 2021-12-21   1495000.0\n",
       "3      9200335332.0 2021-03-11   9581000.0\n",
       "4        98319512.0 2020-08-25   1730000.0\n",
       "...             ...        ...         ...\n",
       "26997  9000076843.0 2020-12-30   5980000.0\n",
       "26998    94183123.0 2020-08-19   5980000.0\n",
       "26999    99234652.0 2020-09-10   5980000.0\n",
       "27000    90121878.0 2020-12-23   5980000.0\n",
       "27001  9401157827.0 2021-01-29   5980000.0\n",
       "\n",
       "[27002 rows x 3 columns]"
      ]
     },
     "execution_count": 25,
     "metadata": {},
     "output_type": "execute_result"
    }
   ],
   "source": [
    "tk_target"
   ]
  },
  {
   "cell_type": "code",
   "execution_count": 26,
   "id": "9a1bd05b",
   "metadata": {},
   "outputs": [],
   "source": [
    "target = tk_target.groupby(\"card_number\").sum().rename(columns={'fare_total':'CLV','card_number' : 'card_number'}).assign(spend_flag = 1)"
   ]
  },
  {
   "cell_type": "code",
   "execution_count": 27,
   "id": "341c58f5",
   "metadata": {},
   "outputs": [],
   "source": [
    "features = features.merge(target, left_index = True, right_index = True, how = \"left\").fillna(0)"
   ]
  },
  {
   "cell_type": "code",
   "execution_count": 28,
   "id": "ca237a04",
   "metadata": {},
   "outputs": [
    {
     "ename": "NameError",
     "evalue": "name 'features_new' is not defined",
     "output_type": "error",
     "traceback": [
      "\u001b[1;31m---------------------------------------------------------------------------\u001b[0m",
      "\u001b[1;31mNameError\u001b[0m                                 Traceback (most recent call last)",
      "\u001b[1;32m~\\AppData\\Local\\Temp/ipykernel_12744/89777568.py\u001b[0m in \u001b[0;36m<module>\u001b[1;34m\u001b[0m\n\u001b[1;32m----> 1\u001b[1;33m \u001b[0mft\u001b[0m \u001b[1;33m=\u001b[0m \u001b[0mfeatures_new\u001b[0m\u001b[1;33m.\u001b[0m\u001b[0mmerge\u001b[0m\u001b[1;33m(\u001b[0m\u001b[0mfeatures_2\u001b[0m\u001b[1;33m,\u001b[0m \u001b[0mleft_index\u001b[0m \u001b[1;33m=\u001b[0m \u001b[1;32mTrue\u001b[0m\u001b[1;33m,\u001b[0m \u001b[0mright_index\u001b[0m \u001b[1;33m=\u001b[0m \u001b[1;32mTrue\u001b[0m\u001b[1;33m,\u001b[0m \u001b[0mhow\u001b[0m \u001b[1;33m=\u001b[0m \u001b[1;34m\"left\"\u001b[0m\u001b[1;33m)\u001b[0m\u001b[1;33m\u001b[0m\u001b[1;33m\u001b[0m\u001b[0m\n\u001b[0m",
      "\u001b[1;31mNameError\u001b[0m: name 'features_new' is not defined"
     ]
    }
   ],
   "source": [
    "#ft = features_new.merge(features_2, left_index = True, right_index = True, how = \"left\")"
   ]
  },
  {
   "cell_type": "code",
   "execution_count": null,
   "id": "004ad698",
   "metadata": {},
   "outputs": [],
   "source": [
    "#ft"
   ]
  },
  {
   "cell_type": "code",
   "execution_count": null,
   "id": "57997bce",
   "metadata": {},
   "outputs": [],
   "source": [
    "#ft[\"st\"] = ft[\"monetary\"] + ft[\"predicted_monetary\"]*ft[\"predicted_purchases_100\"]"
   ]
  },
  {
   "cell_type": "code",
   "execution_count": 29,
   "id": "a6fdfbd4",
   "metadata": {},
   "outputs": [],
   "source": [
    "from sklearn.cluster import KMeans"
   ]
  },
  {
   "cell_type": "code",
   "execution_count": 30,
   "id": "c8525bad",
   "metadata": {},
   "outputs": [],
   "source": [
    "fr = features[[\"frequency\"]]"
   ]
  },
  {
   "cell_type": "code",
   "execution_count": 31,
   "id": "62cf5503",
   "metadata": {},
   "outputs": [
    {
     "name": "stderr",
     "output_type": "stream",
     "text": [
      "C:\\Users\\Admin\\AppData\\Local\\Temp/ipykernel_12744/3497397517.py:4: SettingWithCopyWarning: \n",
      "A value is trying to be set on a copy of a slice from a DataFrame.\n",
      "Try using .loc[row_indexer,col_indexer] = value instead\n",
      "\n",
      "See the caveats in the documentation: https://pandas.pydata.org/pandas-docs/stable/user_guide/indexing.html#returning-a-view-versus-a-copy\n",
      "C:\\Users\\Admin\\AppData\\Local\\Temp/ipykernel_12744/3497397517.py:4: SettingWithCopyWarning: \n",
      "A value is trying to be set on a copy of a slice from a DataFrame.\n",
      "Try using .loc[row_indexer,col_indexer] = value instead\n",
      "\n",
      "See the caveats in the documentation: https://pandas.pydata.org/pandas-docs/stable/user_guide/indexing.html#returning-a-view-versus-a-copy\n",
      "C:\\Users\\Admin\\AppData\\Local\\Temp/ipykernel_12744/3497397517.py:4: SettingWithCopyWarning: \n",
      "A value is trying to be set on a copy of a slice from a DataFrame.\n",
      "Try using .loc[row_indexer,col_indexer] = value instead\n",
      "\n",
      "See the caveats in the documentation: https://pandas.pydata.org/pandas-docs/stable/user_guide/indexing.html#returning-a-view-versus-a-copy\n",
      "C:\\Users\\Admin\\AppData\\Local\\Temp/ipykernel_12744/3497397517.py:4: SettingWithCopyWarning: \n",
      "A value is trying to be set on a copy of a slice from a DataFrame.\n",
      "Try using .loc[row_indexer,col_indexer] = value instead\n",
      "\n",
      "See the caveats in the documentation: https://pandas.pydata.org/pandas-docs/stable/user_guide/indexing.html#returning-a-view-versus-a-copy\n",
      "C:\\Users\\Admin\\AppData\\Local\\Temp/ipykernel_12744/3497397517.py:4: SettingWithCopyWarning: \n",
      "A value is trying to be set on a copy of a slice from a DataFrame.\n",
      "Try using .loc[row_indexer,col_indexer] = value instead\n",
      "\n",
      "See the caveats in the documentation: https://pandas.pydata.org/pandas-docs/stable/user_guide/indexing.html#returning-a-view-versus-a-copy\n",
      "C:\\Users\\Admin\\AppData\\Local\\Temp/ipykernel_12744/3497397517.py:4: SettingWithCopyWarning: \n",
      "A value is trying to be set on a copy of a slice from a DataFrame.\n",
      "Try using .loc[row_indexer,col_indexer] = value instead\n",
      "\n",
      "See the caveats in the documentation: https://pandas.pydata.org/pandas-docs/stable/user_guide/indexing.html#returning-a-view-versus-a-copy\n",
      "C:\\Users\\Admin\\AppData\\Local\\Temp/ipykernel_12744/3497397517.py:4: SettingWithCopyWarning: \n",
      "A value is trying to be set on a copy of a slice from a DataFrame.\n",
      "Try using .loc[row_indexer,col_indexer] = value instead\n",
      "\n",
      "See the caveats in the documentation: https://pandas.pydata.org/pandas-docs/stable/user_guide/indexing.html#returning-a-view-versus-a-copy\n",
      "C:\\Users\\Admin\\AppData\\Local\\Temp/ipykernel_12744/3497397517.py:4: SettingWithCopyWarning: \n",
      "A value is trying to be set on a copy of a slice from a DataFrame.\n",
      "Try using .loc[row_indexer,col_indexer] = value instead\n",
      "\n",
      "See the caveats in the documentation: https://pandas.pydata.org/pandas-docs/stable/user_guide/indexing.html#returning-a-view-versus-a-copy\n",
      "C:\\Users\\Admin\\AppData\\Local\\Temp/ipykernel_12744/3497397517.py:4: SettingWithCopyWarning: \n",
      "A value is trying to be set on a copy of a slice from a DataFrame.\n",
      "Try using .loc[row_indexer,col_indexer] = value instead\n",
      "\n",
      "See the caveats in the documentation: https://pandas.pydata.org/pandas-docs/stable/user_guide/indexing.html#returning-a-view-versus-a-copy\n"
     ]
    },
    {
     "data": {
      "image/png": "[encoded data removed]",
      "text/plain": [
       "<Figure size 432x288 with 1 Axes>"
      ]
     },
     "metadata": {
      "needs_background": "light"
     },
     "output_type": "display_data"
    }
   ],
   "source": [
    "sse ={}\n",
    "for k in range(1,10):\n",
    "    kmeans = KMeans(n_clusters = k, max_iter = 1000).fit(fr)\n",
    "    fr[\"clusters\"]=kmeans.labels_\n",
    "    sse[k]=kmeans.inertia_\n",
    "plt.figure()\n",
    "plt.plot(list(sse.keys()), list(sse.values()))\n",
    "plt.xlabel(\"Number of cluster\")\n",
    "plt.show()"
   ]
  },
  {
   "cell_type": "code",
   "execution_count": 34,
   "id": "600989a1",
   "metadata": {},
   "outputs": [
    {
     "name": "stderr",
     "output_type": "stream",
     "text": [
      "C:\\Users\\Admin\\AppData\\Local\\Temp/ipykernel_12744/3729501365.py:5: SettingWithCopyWarning: \n",
      "A value is trying to be set on a copy of a slice from a DataFrame.\n",
      "Try using .loc[row_indexer,col_indexer] = value instead\n",
      "\n",
      "See the caveats in the documentation: https://pandas.pydata.org/pandas-docs/stable/user_guide/indexing.html#returning-a-view-versus-a-copy\n",
      "C:\\Users\\Admin\\AppData\\Local\\Temp/ipykernel_12744/3729501365.py:5: SettingWithCopyWarning: \n",
      "A value is trying to be set on a copy of a slice from a DataFrame.\n",
      "Try using .loc[row_indexer,col_indexer] = value instead\n",
      "\n",
      "See the caveats in the documentation: https://pandas.pydata.org/pandas-docs/stable/user_guide/indexing.html#returning-a-view-versus-a-copy\n",
      "C:\\Users\\Admin\\AppData\\Local\\Temp/ipykernel_12744/3729501365.py:5: SettingWithCopyWarning: \n",
      "A value is trying to be set on a copy of a slice from a DataFrame.\n",
      "Try using .loc[row_indexer,col_indexer] = value instead\n",
      "\n",
      "See the caveats in the documentation: https://pandas.pydata.org/pandas-docs/stable/user_guide/indexing.html#returning-a-view-versus-a-copy\n",
      "C:\\Users\\Admin\\AppData\\Local\\Temp/ipykernel_12744/3729501365.py:5: SettingWithCopyWarning: \n",
      "A value is trying to be set on a copy of a slice from a DataFrame.\n",
      "Try using .loc[row_indexer,col_indexer] = value instead\n",
      "\n",
      "See the caveats in the documentation: https://pandas.pydata.org/pandas-docs/stable/user_guide/indexing.html#returning-a-view-versus-a-copy\n",
      "C:\\Users\\Admin\\AppData\\Local\\Temp/ipykernel_12744/3729501365.py:5: SettingWithCopyWarning: \n",
      "A value is trying to be set on a copy of a slice from a DataFrame.\n",
      "Try using .loc[row_indexer,col_indexer] = value instead\n",
      "\n",
      "See the caveats in the documentation: https://pandas.pydata.org/pandas-docs/stable/user_guide/indexing.html#returning-a-view-versus-a-copy\n",
      "C:\\Users\\Admin\\AppData\\Local\\Temp/ipykernel_12744/3729501365.py:5: SettingWithCopyWarning: \n",
      "A value is trying to be set on a copy of a slice from a DataFrame.\n",
      "Try using .loc[row_indexer,col_indexer] = value instead\n",
      "\n",
      "See the caveats in the documentation: https://pandas.pydata.org/pandas-docs/stable/user_guide/indexing.html#returning-a-view-versus-a-copy\n",
      "C:\\Users\\Admin\\AppData\\Local\\Temp/ipykernel_12744/3729501365.py:5: SettingWithCopyWarning: \n",
      "A value is trying to be set on a copy of a slice from a DataFrame.\n",
      "Try using .loc[row_indexer,col_indexer] = value instead\n",
      "\n",
      "See the caveats in the documentation: https://pandas.pydata.org/pandas-docs/stable/user_guide/indexing.html#returning-a-view-versus-a-copy\n",
      "C:\\Users\\Admin\\AppData\\Local\\Temp/ipykernel_12744/3729501365.py:5: SettingWithCopyWarning: \n",
      "A value is trying to be set on a copy of a slice from a DataFrame.\n",
      "Try using .loc[row_indexer,col_indexer] = value instead\n",
      "\n",
      "See the caveats in the documentation: https://pandas.pydata.org/pandas-docs/stable/user_guide/indexing.html#returning-a-view-versus-a-copy\n",
      "C:\\Users\\Admin\\AppData\\Local\\Temp/ipykernel_12744/3729501365.py:5: SettingWithCopyWarning: \n",
      "A value is trying to be set on a copy of a slice from a DataFrame.\n",
      "Try using .loc[row_indexer,col_indexer] = value instead\n",
      "\n",
      "See the caveats in the documentation: https://pandas.pydata.org/pandas-docs/stable/user_guide/indexing.html#returning-a-view-versus-a-copy\n"
     ]
    },
    {
     "data": {
      "image/png": "[encoded data removed]",
      "text/plain": [
       "<Figure size 432x288 with 1 Axes>"
      ]
     },
     "metadata": {
      "needs_background": "light"
     },
     "output_type": "display_data"
    }
   ],
   "source": [
    "sr = features[[\"statis_recency\"]]\n",
    "ss1 ={}\n",
    "for k in range(1,10):\n",
    "    kmeans1 = KMeans(n_clusters = k, max_iter = 1000).fit(sr)\n",
    "    fr[\"clusters\"]=kmeans1.labels_\n",
    "    ss1[k]=kmeans1.inertia_\n",
    "plt.figure()\n",
    "plt.plot(list(ss1.keys()), list(ss1.values()))\n",
    "plt.xlabel(\"Number of cluster\")\n",
    "plt.show()"
   ]
  },
  {
   "cell_type": "code",
   "execution_count": 35,
   "id": "f82fcc8a",
   "metadata": {},
   "outputs": [
    {
     "name": "stderr",
     "output_type": "stream",
     "text": [
      "C:\\Users\\Admin\\AppData\\Local\\Temp/ipykernel_12744/2611638542.py:5: SettingWithCopyWarning: \n",
      "A value is trying to be set on a copy of a slice from a DataFrame.\n",
      "Try using .loc[row_indexer,col_indexer] = value instead\n",
      "\n",
      "See the caveats in the documentation: https://pandas.pydata.org/pandas-docs/stable/user_guide/indexing.html#returning-a-view-versus-a-copy\n",
      "C:\\Users\\Admin\\AppData\\Local\\Temp/ipykernel_12744/2611638542.py:5: SettingWithCopyWarning: \n",
      "A value is trying to be set on a copy of a slice from a DataFrame.\n",
      "Try using .loc[row_indexer,col_indexer] = value instead\n",
      "\n",
      "See the caveats in the documentation: https://pandas.pydata.org/pandas-docs/stable/user_guide/indexing.html#returning-a-view-versus-a-copy\n",
      "C:\\Users\\Admin\\AppData\\Local\\Temp/ipykernel_12744/2611638542.py:5: SettingWithCopyWarning: \n",
      "A value is trying to be set on a copy of a slice from a DataFrame.\n",
      "Try using .loc[row_indexer,col_indexer] = value instead\n",
      "\n",
      "See the caveats in the documentation: https://pandas.pydata.org/pandas-docs/stable/user_guide/indexing.html#returning-a-view-versus-a-copy\n",
      "C:\\Users\\Admin\\AppData\\Local\\Temp/ipykernel_12744/2611638542.py:5: SettingWithCopyWarning: \n",
      "A value is trying to be set on a copy of a slice from a DataFrame.\n",
      "Try using .loc[row_indexer,col_indexer] = value instead\n",
      "\n",
      "See the caveats in the documentation: https://pandas.pydata.org/pandas-docs/stable/user_guide/indexing.html#returning-a-view-versus-a-copy\n",
      "C:\\Users\\Admin\\AppData\\Local\\Temp/ipykernel_12744/2611638542.py:5: SettingWithCopyWarning: \n",
      "A value is trying to be set on a copy of a slice from a DataFrame.\n",
      "Try using .loc[row_indexer,col_indexer] = value instead\n",
      "\n",
      "See the caveats in the documentation: https://pandas.pydata.org/pandas-docs/stable/user_guide/indexing.html#returning-a-view-versus-a-copy\n",
      "C:\\Users\\Admin\\AppData\\Local\\Temp/ipykernel_12744/2611638542.py:5: SettingWithCopyWarning: \n",
      "A value is trying to be set on a copy of a slice from a DataFrame.\n",
      "Try using .loc[row_indexer,col_indexer] = value instead\n",
      "\n",
      "See the caveats in the documentation: https://pandas.pydata.org/pandas-docs/stable/user_guide/indexing.html#returning-a-view-versus-a-copy\n",
      "C:\\Users\\Admin\\AppData\\Local\\Temp/ipykernel_12744/2611638542.py:5: SettingWithCopyWarning: \n",
      "A value is trying to be set on a copy of a slice from a DataFrame.\n",
      "Try using .loc[row_indexer,col_indexer] = value instead\n",
      "\n",
      "See the caveats in the documentation: https://pandas.pydata.org/pandas-docs/stable/user_guide/indexing.html#returning-a-view-versus-a-copy\n",
      "C:\\Users\\Admin\\AppData\\Local\\Temp/ipykernel_12744/2611638542.py:5: SettingWithCopyWarning: \n",
      "A value is trying to be set on a copy of a slice from a DataFrame.\n",
      "Try using .loc[row_indexer,col_indexer] = value instead\n",
      "\n",
      "See the caveats in the documentation: https://pandas.pydata.org/pandas-docs/stable/user_guide/indexing.html#returning-a-view-versus-a-copy\n",
      "C:\\Users\\Admin\\AppData\\Local\\Temp/ipykernel_12744/2611638542.py:5: SettingWithCopyWarning: \n",
      "A value is trying to be set on a copy of a slice from a DataFrame.\n",
      "Try using .loc[row_indexer,col_indexer] = value instead\n",
      "\n",
      "See the caveats in the documentation: https://pandas.pydata.org/pandas-docs/stable/user_guide/indexing.html#returning-a-view-versus-a-copy\n"
     ]
    },
    {
     "data": {
      "image/png": "[encoded data removed]",
      "text/plain": [
       "<Figure size 432x288 with 1 Axes>"
      ]
     },
     "metadata": {
      "needs_background": "light"
     },
     "output_type": "display_data"
    }
   ],
   "source": [
    "mn = features[[\"monetary\"]]\n",
    "ss2 ={}\n",
    "for k in range(1,10):\n",
    "    kmeans2 = KMeans(n_clusters = k, max_iter = 10000).fit(mn)\n",
    "    fr[\"clusters\"]=kmeans2.labels_\n",
    "    ss2[k]=kmeans2.inertia_\n",
    "plt.figure()\n",
    "plt.plot(list(ss2.keys()), list(ss2.values()))\n",
    "plt.xlabel(\"Number of cluster\")\n",
    "plt.show()"
   ]
  },
  {
   "cell_type": "code",
   "execution_count": 36,
   "id": "ce18f13f",
   "metadata": {},
   "outputs": [
    {
     "name": "stderr",
     "output_type": "stream",
     "text": [
      "C:\\Users\\Admin\\AppData\\Local\\Temp/ipykernel_12744/2898741985.py:5: SettingWithCopyWarning: \n",
      "A value is trying to be set on a copy of a slice from a DataFrame.\n",
      "Try using .loc[row_indexer,col_indexer] = value instead\n",
      "\n",
      "See the caveats in the documentation: https://pandas.pydata.org/pandas-docs/stable/user_guide/indexing.html#returning-a-view-versus-a-copy\n",
      "C:\\Users\\Admin\\AppData\\Local\\Temp/ipykernel_12744/2898741985.py:5: SettingWithCopyWarning: \n",
      "A value is trying to be set on a copy of a slice from a DataFrame.\n",
      "Try using .loc[row_indexer,col_indexer] = value instead\n",
      "\n",
      "See the caveats in the documentation: https://pandas.pydata.org/pandas-docs/stable/user_guide/indexing.html#returning-a-view-versus-a-copy\n",
      "C:\\Users\\Admin\\AppData\\Local\\Temp/ipykernel_12744/2898741985.py:5: SettingWithCopyWarning: \n",
      "A value is trying to be set on a copy of a slice from a DataFrame.\n",
      "Try using .loc[row_indexer,col_indexer] = value instead\n",
      "\n",
      "See the caveats in the documentation: https://pandas.pydata.org/pandas-docs/stable/user_guide/indexing.html#returning-a-view-versus-a-copy\n",
      "C:\\Users\\Admin\\AppData\\Local\\Temp/ipykernel_12744/2898741985.py:5: SettingWithCopyWarning: \n",
      "A value is trying to be set on a copy of a slice from a DataFrame.\n",
      "Try using .loc[row_indexer,col_indexer] = value instead\n",
      "\n",
      "See the caveats in the documentation: https://pandas.pydata.org/pandas-docs/stable/user_guide/indexing.html#returning-a-view-versus-a-copy\n",
      "C:\\Users\\Admin\\AppData\\Local\\Temp/ipykernel_12744/2898741985.py:5: SettingWithCopyWarning: \n",
      "A value is trying to be set on a copy of a slice from a DataFrame.\n",
      "Try using .loc[row_indexer,col_indexer] = value instead\n",
      "\n",
      "See the caveats in the documentation: https://pandas.pydata.org/pandas-docs/stable/user_guide/indexing.html#returning-a-view-versus-a-copy\n",
      "C:\\Users\\Admin\\AppData\\Local\\Temp/ipykernel_12744/2898741985.py:5: SettingWithCopyWarning: \n",
      "A value is trying to be set on a copy of a slice from a DataFrame.\n",
      "Try using .loc[row_indexer,col_indexer] = value instead\n",
      "\n",
      "See the caveats in the documentation: https://pandas.pydata.org/pandas-docs/stable/user_guide/indexing.html#returning-a-view-versus-a-copy\n",
      "C:\\Users\\Admin\\AppData\\Local\\Temp/ipykernel_12744/2898741985.py:5: SettingWithCopyWarning: \n",
      "A value is trying to be set on a copy of a slice from a DataFrame.\n",
      "Try using .loc[row_indexer,col_indexer] = value instead\n",
      "\n",
      "See the caveats in the documentation: https://pandas.pydata.org/pandas-docs/stable/user_guide/indexing.html#returning-a-view-versus-a-copy\n",
      "C:\\Users\\Admin\\AppData\\Local\\Temp/ipykernel_12744/2898741985.py:5: SettingWithCopyWarning: \n",
      "A value is trying to be set on a copy of a slice from a DataFrame.\n",
      "Try using .loc[row_indexer,col_indexer] = value instead\n",
      "\n",
      "See the caveats in the documentation: https://pandas.pydata.org/pandas-docs/stable/user_guide/indexing.html#returning-a-view-versus-a-copy\n",
      "C:\\Users\\Admin\\AppData\\Local\\Temp/ipykernel_12744/2898741985.py:5: SettingWithCopyWarning: \n",
      "A value is trying to be set on a copy of a slice from a DataFrame.\n",
      "Try using .loc[row_indexer,col_indexer] = value instead\n",
      "\n",
      "See the caveats in the documentation: https://pandas.pydata.org/pandas-docs/stable/user_guide/indexing.html#returning-a-view-versus-a-copy\n"
     ]
    },
    {
     "data": {
      "image/png": "[encoded data removed]",
      "text/plain": [
       "<Figure size 432x288 with 1 Axes>"
      ]
     },
     "metadata": {
      "needs_background": "light"
     },
     "output_type": "display_data"
    }
   ],
   "source": [
    "mr = features[[\"mkt_recency\"]]\n",
    "ss3 ={}\n",
    "for k in range(1,10):\n",
    "    kmeans3 = KMeans(n_clusters = k, max_iter = 10000).fit(mn)\n",
    "    fr[\"clusters\"]=kmeans3.labels_\n",
    "    ss3[k]=kmeans3.inertia_\n",
    "plt.figure()\n",
    "plt.plot(list(ss3.keys()), list(ss3.values()))\n",
    "plt.xlabel(\"Number of cluster\")\n",
    "plt.show()"
   ]
  },
  {
   "cell_type": "code",
   "execution_count": 37,
   "id": "eb19b826",
   "metadata": {},
   "outputs": [],
   "source": [
    "from sklearn.metrics import silhouette_score\n",
    "\n",
    "sil = []\n",
    "kmax = 10\n",
    "\n",
    "# dissimilarity would not be defined for a single cluster, thus, minimum number of clusters should be 2\n",
    "for k in range(2, kmax+1):\n",
    "  kmeans = KMeans(n_clusters = k).fit(sr)\n",
    "  labels = kmeans.labels_\n",
    "  sil.append(silhouette_score(sr, labels, metric = 'euclidean'))"
   ]
  },
  {
   "cell_type": "code",
   "execution_count": 38,
   "id": "c22d2b29",
   "metadata": {},
   "outputs": [
    {
     "data": {
      "image/png": "[encoded data removed]",
      "text/plain": [
       "<Figure size 432x288 with 1 Axes>"
      ]
     },
     "metadata": {
      "needs_background": "light"
     },
     "output_type": "display_data"
    }
   ],
   "source": [
    "range_n_clusters = [2, 3, 4, 5, 6, 7, 8]\n",
    "silhouette_avg = []\n",
    "for num_clusters in range_n_clusters:\n",
    " \n",
    " # initialise kmeans\n",
    " kmeans = KMeans(n_clusters=num_clusters)\n",
    " kmeans.fit(sr)\n",
    " cluster_labels = kmeans.labels_\n",
    " \n",
    " # silhouette score\n",
    " silhouette_avg.append(silhouette_score(sr, cluster_labels))\n",
    "plt.plot(range_n_clusters,silhouette_avg,'bx-')\n",
    "plt.xlabel('Values of K')\n",
    "plt.ylabel('Silhouette score')\n",
    "plt.title('Silhouette analysis For Optimal k')\n",
    "plt.show()"
   ]
  },
  {
   "cell_type": "code",
   "execution_count": 39,
   "id": "1bee4ff9",
   "metadata": {},
   "outputs": [
    {
     "data": {
      "text/plain": [
       "KMeans(n_clusters=2)"
      ]
     },
     "execution_count": 39,
     "metadata": {},
     "output_type": "execute_result"
    }
   ],
   "source": [
    "kmeans1 = KMeans(n_clusters=2)\n",
    "kmeans1.fit(fr)"
   ]
  },
  {
   "cell_type": "code",
   "execution_count": 40,
   "id": "1b2087e5",
   "metadata": {},
   "outputs": [
    {
     "data": {
      "text/plain": [
       "array([[15.01679587,  3.79328165],\n",
       "       [68.04081633,  4.10204082]])"
      ]
     },
     "execution_count": 40,
     "metadata": {},
     "output_type": "execute_result"
    }
   ],
   "source": [
    "kmeans1.cluster_centers_"
   ]
  },
  {
   "cell_type": "code",
   "execution_count": 41,
   "id": "7e2ff8e7",
   "metadata": {},
   "outputs": [
    {
     "data": {
      "text/plain": [
       "array([0, 0, 1, 0, 0, 0, 1, 1, 0, 0, 0, 0, 0, 0, 1, 0, 0, 0, 0, 0, 0, 1,\n",
       "       0, 0, 0, 1, 0, 0, 0, 0, 0, 0, 0, 0, 0, 0, 0, 0, 0, 1, 0, 0, 0, 0,\n",
       "       0, 0, 0, 1, 0, 1, 0, 0, 1, 0, 0, 0, 1, 0, 0, 0, 0, 1, 1, 0, 0, 0,\n",
       "       0, 0, 0, 0, 0, 0, 0, 0, 0, 1, 0, 0, 0, 0, 1, 0, 1, 0, 1, 0, 0, 0,\n",
       "       1, 1, 0, 0, 1, 0, 0, 0, 0, 0, 1, 0, 1, 0, 0, 0, 0, 0, 0, 0, 0, 1,\n",
       "       1, 0, 0, 0, 0, 0, 0, 0, 1, 0, 0, 0, 1, 0, 1, 0, 0, 0, 0, 0, 0, 0,\n",
       "       0, 0, 0, 1, 1, 0, 0, 1, 0, 1, 0, 0, 0, 0, 1, 0, 0, 0, 0, 0, 0, 0,\n",
       "       1, 0, 0, 0, 0, 0, 0, 0, 0, 1, 0, 0, 0, 1, 0, 0, 1, 1, 0, 0, 0, 0,\n",
       "       0, 0, 0, 0, 0, 0, 1, 0, 1, 0, 0, 0, 0, 0, 0, 0, 0, 0, 1, 0, 0, 1,\n",
       "       1, 0, 0, 0, 0, 0, 0, 1, 0, 0, 0, 0, 1, 0, 0, 0, 1, 0, 0, 0, 0, 0,\n",
       "       0, 0, 0, 0, 0, 0, 0, 0, 0, 1, 1, 1, 1, 0, 0, 0, 0, 0, 0, 0, 0, 0,\n",
       "       0, 0, 0, 0, 1, 0, 0, 0, 1, 0, 0, 0, 0, 0, 0, 0, 0, 0, 0, 0, 0, 0,\n",
       "       1, 0, 0, 1, 0, 1, 0, 0, 1, 1, 1, 0, 0, 1, 0, 0, 0, 1, 1, 1, 0, 0,\n",
       "       0, 0, 0, 0, 0, 1, 0, 0, 0, 0, 1, 0, 0, 1, 0, 0, 1, 0, 0, 0, 0, 0,\n",
       "       0, 0, 0, 0, 0, 0, 1, 1, 1, 0, 1, 1, 0, 0, 0, 0, 0, 0, 0, 1, 0, 0,\n",
       "       1, 0, 0, 0, 0, 0, 1, 0, 0, 0, 0, 0, 0, 1, 0, 0, 0, 0, 0, 1, 0, 0,\n",
       "       0, 0, 0, 1, 0, 0, 0, 0, 0, 0, 0, 0, 0, 1, 0, 1, 0, 0, 0, 0, 0, 0,\n",
       "       0, 0, 0, 0, 1, 0, 0, 1, 0, 0, 0, 0, 0, 1, 0, 0, 0, 0, 0, 0, 0, 0,\n",
       "       0, 0, 0, 1, 0, 0, 0, 0, 0, 1, 0, 0, 0, 0, 0, 0, 0, 0, 0, 1, 0, 0,\n",
       "       0, 0, 0, 0, 1, 1, 1, 0, 0, 0, 1, 0, 1, 1, 1, 0, 1, 0, 1, 0, 0, 0,\n",
       "       0, 0, 0, 0, 1, 0, 0, 0, 0, 0, 0, 0, 0, 1, 1, 0, 0, 0, 0, 1, 0, 0,\n",
       "       0, 0, 0, 0, 1, 0, 0, 0, 0, 0, 0, 0, 0, 0, 0, 0, 0, 0, 0, 0, 0, 0,\n",
       "       1, 0, 0, 0, 1, 0, 0, 0, 0, 0, 0, 0, 0, 0, 1, 0, 0, 0, 0, 0, 0, 0,\n",
       "       0, 0, 0, 1, 1, 0, 0, 0, 0, 0, 0, 0, 0, 1, 0, 0, 0, 0, 0, 0, 1, 0,\n",
       "       0, 0, 0, 1, 1, 0, 0, 0, 0, 0, 0, 0, 0, 0, 0, 0, 0, 0, 0, 0, 0, 0,\n",
       "       1, 0, 1, 0, 0, 0, 0, 0, 0, 1, 0, 0, 0, 0, 0, 0, 0, 0, 0, 0, 0, 0,\n",
       "       0, 0, 0, 0, 0, 0, 0, 0, 0, 0, 0, 0, 1, 0, 0, 0, 0, 0, 0, 0, 0, 0,\n",
       "       0, 0, 0, 0, 0, 1, 0, 0, 1, 1, 0, 0, 0, 0, 0, 0, 0, 0, 1, 0, 0, 0,\n",
       "       0, 0, 0, 0, 0, 0, 0, 0, 1, 0, 1, 0, 0, 0, 0, 0, 0, 0, 1, 0, 0, 0,\n",
       "       0, 0, 0, 0, 0, 0, 0, 0, 0, 1, 0, 0, 0, 0, 0, 0, 1, 0, 0, 0, 0, 0,\n",
       "       0, 0, 0, 0, 0, 0, 0, 0, 0, 0, 0, 0, 0, 0, 0, 0, 0, 0, 0, 0, 0, 0,\n",
       "       0, 0, 1, 0, 0, 1, 0, 0, 1, 0, 0, 0, 0, 0, 0, 0, 0, 0, 0, 0, 0, 0,\n",
       "       0, 0, 0, 0, 0, 0, 0, 0, 0, 0, 0, 0, 0, 0, 0, 0, 1, 0, 1, 0, 0, 1,\n",
       "       0, 0, 0, 0, 0, 1, 0, 0, 0, 0, 1, 0, 0, 0, 0, 0, 0, 1, 1, 0, 0, 0,\n",
       "       0, 1, 0, 0, 1, 0, 0, 0, 0, 0, 0, 0, 0, 0, 0, 1, 0, 0, 0, 0, 0, 1,\n",
       "       0, 0, 0, 0, 0, 0, 0, 0, 0, 0, 0, 0, 1, 0, 0, 0, 0, 0, 0, 0, 0, 0,\n",
       "       0, 1, 0, 0, 0, 0, 0, 0, 0, 0, 0, 1, 0, 0, 0, 0, 0, 0, 0, 0, 0, 0,\n",
       "       0, 0, 0, 0, 0, 0, 0, 1, 0, 0, 0, 0, 0, 1, 0, 0, 0, 0, 0, 0, 0, 0,\n",
       "       0, 0, 0, 0, 0, 0, 0, 0, 0, 0, 0, 0, 0, 0, 0, 1, 0, 0, 0, 0, 0, 0,\n",
       "       0, 0, 0, 0, 0, 1, 0, 1, 0, 0, 1, 0, 0, 0, 0, 0, 0, 1, 0, 0, 0, 0,\n",
       "       0, 0, 1, 0, 1, 0, 1, 0, 0, 0, 0, 0, 0, 0, 0, 0, 0, 0, 0, 0, 0, 0,\n",
       "       0, 0, 0, 0, 0, 0, 0, 0, 0, 0, 0, 0, 0, 0, 0, 0, 0, 0, 0])"
      ]
     },
     "execution_count": 41,
     "metadata": {},
     "output_type": "execute_result"
    }
   ],
   "source": [
    "kmeans1.labels_"
   ]
  },
  {
   "cell_type": "code",
   "execution_count": 42,
   "id": "c563acfb",
   "metadata": {},
   "outputs": [],
   "source": [
    "features[\"fr_cluster\"] = kmeans1.labels_"
   ]
  },
  {
   "cell_type": "code",
   "execution_count": 43,
   "id": "1cdd819b",
   "metadata": {},
   "outputs": [],
   "source": [
    "features[\"fr_labels\"] = 1 - features[\"fr_cluster\"]"
   ]
  },
  {
   "cell_type": "code",
   "execution_count": 44,
   "id": "f7df7535",
   "metadata": {},
   "outputs": [
    {
     "data": {
      "text/html": [
       "<div>\n",
       "<style scoped>\n",
       "    .dataframe tbody tr th:only-of-type {\n",
       "        vertical-align: middle;\n",
       "    }\n",
       "\n",
       "    .dataframe tbody tr th {\n",
       "        vertical-align: top;\n",
       "    }\n",
       "\n",
       "    .dataframe thead th {\n",
       "        text-align: right;\n",
       "    }\n",
       "</style>\n",
       "<table border=\"1\" class=\"dataframe\">\n",
       "  <thead>\n",
       "    <tr style=\"text-align: right;\">\n",
       "      <th></th>\n",
       "      <th>statis_recency</th>\n",
       "      <th>frequency</th>\n",
       "      <th>monetary</th>\n",
       "      <th>mkt_recency</th>\n",
       "      <th>card_number</th>\n",
       "      <th>tk_issdate</th>\n",
       "      <th>monetary_avg</th>\n",
       "      <th>customer_age</th>\n",
       "      <th>CLV</th>\n",
       "      <th>spend_flag</th>\n",
       "      <th>fr_cluster</th>\n",
       "      <th>fr_labels</th>\n",
       "    </tr>\n",
       "    <tr>\n",
       "      <th>card_number</th>\n",
       "      <th></th>\n",
       "      <th></th>\n",
       "      <th></th>\n",
       "      <th></th>\n",
       "      <th></th>\n",
       "      <th></th>\n",
       "      <th></th>\n",
       "      <th></th>\n",
       "      <th></th>\n",
       "      <th></th>\n",
       "      <th></th>\n",
       "      <th></th>\n",
       "    </tr>\n",
       "  </thead>\n",
       "  <tbody>\n",
       "    <tr>\n",
       "      <th>90005806.0</th>\n",
       "      <td>442.0</td>\n",
       "      <td>9</td>\n",
       "      <td>16693000.0</td>\n",
       "      <td>2.0</td>\n",
       "      <td>0</td>\n",
       "      <td>0</td>\n",
       "      <td>1.854778e+06</td>\n",
       "      <td>444.0</td>\n",
       "      <td>28740000.0</td>\n",
       "      <td>1</td>\n",
       "      <td>0</td>\n",
       "      <td>1</td>\n",
       "    </tr>\n",
       "    <tr>\n",
       "      <th>90009340.0</th>\n",
       "      <td>299.0</td>\n",
       "      <td>25</td>\n",
       "      <td>78021000.0</td>\n",
       "      <td>240.0</td>\n",
       "      <td>0</td>\n",
       "      <td>0</td>\n",
       "      <td>3.120840e+06</td>\n",
       "      <td>539.0</td>\n",
       "      <td>84742000.0</td>\n",
       "      <td>1</td>\n",
       "      <td>0</td>\n",
       "      <td>1</td>\n",
       "    </tr>\n",
       "    <tr>\n",
       "      <th>90021926.0</th>\n",
       "      <td>514.0</td>\n",
       "      <td>42</td>\n",
       "      <td>69822000.0</td>\n",
       "      <td>13.0</td>\n",
       "      <td>0</td>\n",
       "      <td>0</td>\n",
       "      <td>1.662429e+06</td>\n",
       "      <td>527.0</td>\n",
       "      <td>107897000.0</td>\n",
       "      <td>1</td>\n",
       "      <td>1</td>\n",
       "      <td>0</td>\n",
       "    </tr>\n",
       "    <tr>\n",
       "      <th>90024258.0</th>\n",
       "      <td>472.0</td>\n",
       "      <td>31</td>\n",
       "      <td>132220000.0</td>\n",
       "      <td>0.0</td>\n",
       "      <td>0</td>\n",
       "      <td>0</td>\n",
       "      <td>4.265161e+06</td>\n",
       "      <td>472.0</td>\n",
       "      <td>150697000.0</td>\n",
       "      <td>1</td>\n",
       "      <td>0</td>\n",
       "      <td>1</td>\n",
       "    </tr>\n",
       "    <tr>\n",
       "      <th>90025237.0</th>\n",
       "      <td>421.0</td>\n",
       "      <td>13</td>\n",
       "      <td>15045000.0</td>\n",
       "      <td>16.0</td>\n",
       "      <td>0</td>\n",
       "      <td>0</td>\n",
       "      <td>1.157308e+06</td>\n",
       "      <td>437.0</td>\n",
       "      <td>19843000.0</td>\n",
       "      <td>1</td>\n",
       "      <td>0</td>\n",
       "      <td>1</td>\n",
       "    </tr>\n",
       "    <tr>\n",
       "      <th>...</th>\n",
       "      <td>...</td>\n",
       "      <td>...</td>\n",
       "      <td>...</td>\n",
       "      <td>...</td>\n",
       "      <td>...</td>\n",
       "      <td>...</td>\n",
       "      <td>...</td>\n",
       "      <td>...</td>\n",
       "      <td>...</td>\n",
       "      <td>...</td>\n",
       "      <td>...</td>\n",
       "      <td>...</td>\n",
       "    </tr>\n",
       "    <tr>\n",
       "      <th>116818083237.0</th>\n",
       "      <td>84.0</td>\n",
       "      <td>5</td>\n",
       "      <td>10943000.0</td>\n",
       "      <td>350.0</td>\n",
       "      <td>0</td>\n",
       "      <td>0</td>\n",
       "      <td>2.188600e+06</td>\n",
       "      <td>434.0</td>\n",
       "      <td>14589000.0</td>\n",
       "      <td>1</td>\n",
       "      <td>0</td>\n",
       "      <td>1</td>\n",
       "    </tr>\n",
       "    <tr>\n",
       "      <th>180007059511.0</th>\n",
       "      <td>239.0</td>\n",
       "      <td>2</td>\n",
       "      <td>6832000.0</td>\n",
       "      <td>21.0</td>\n",
       "      <td>0</td>\n",
       "      <td>0</td>\n",
       "      <td>3.416000e+06</td>\n",
       "      <td>260.0</td>\n",
       "      <td>31957000.0</td>\n",
       "      <td>1</td>\n",
       "      <td>0</td>\n",
       "      <td>1</td>\n",
       "    </tr>\n",
       "    <tr>\n",
       "      <th>513629874998.0</th>\n",
       "      <td>1.0</td>\n",
       "      <td>2</td>\n",
       "      <td>2680000.0</td>\n",
       "      <td>519.0</td>\n",
       "      <td>0</td>\n",
       "      <td>0</td>\n",
       "      <td>1.340000e+06</td>\n",
       "      <td>520.0</td>\n",
       "      <td>2680000.0</td>\n",
       "      <td>1</td>\n",
       "      <td>0</td>\n",
       "      <td>1</td>\n",
       "    </tr>\n",
       "    <tr>\n",
       "      <th>514528869941.0</th>\n",
       "      <td>61.0</td>\n",
       "      <td>11</td>\n",
       "      <td>16256000.0</td>\n",
       "      <td>188.0</td>\n",
       "      <td>0</td>\n",
       "      <td>0</td>\n",
       "      <td>1.477818e+06</td>\n",
       "      <td>249.0</td>\n",
       "      <td>65114000.0</td>\n",
       "      <td>1</td>\n",
       "      <td>0</td>\n",
       "      <td>1</td>\n",
       "    </tr>\n",
       "    <tr>\n",
       "      <th>WB5102177</th>\n",
       "      <td>0.0</td>\n",
       "      <td>2</td>\n",
       "      <td>0.0</td>\n",
       "      <td>520.0</td>\n",
       "      <td>0</td>\n",
       "      <td>0</td>\n",
       "      <td>0.000000e+00</td>\n",
       "      <td>520.0</td>\n",
       "      <td>0.0</td>\n",
       "      <td>1</td>\n",
       "      <td>0</td>\n",
       "      <td>1</td>\n",
       "    </tr>\n",
       "  </tbody>\n",
       "</table>\n",
       "<p>921 rows × 12 columns</p>\n",
       "</div>"
      ],
      "text/plain": [
       "                statis_recency  frequency     monetary  mkt_recency  \\\n",
       "card_number                                                           \n",
       "90005806.0               442.0          9   16693000.0          2.0   \n",
       "90009340.0               299.0         25   78021000.0        240.0   \n",
       "90021926.0               514.0         42   69822000.0         13.0   \n",
       "90024258.0               472.0         31  132220000.0          0.0   \n",
       "90025237.0               421.0         13   15045000.0         16.0   \n",
       "...                        ...        ...          ...          ...   \n",
       "116818083237.0            84.0          5   10943000.0        350.0   \n",
       "180007059511.0           239.0          2    6832000.0         21.0   \n",
       "513629874998.0             1.0          2    2680000.0        519.0   \n",
       "514528869941.0            61.0         11   16256000.0        188.0   \n",
       "WB5102177                  0.0          2          0.0        520.0   \n",
       "\n",
       "                card_number  tk_issdate  monetary_avg  customer_age  \\\n",
       "card_number                                                           \n",
       "90005806.0                0           0  1.854778e+06         444.0   \n",
       "90009340.0                0           0  3.120840e+06         539.0   \n",
       "90021926.0                0           0  1.662429e+06         527.0   \n",
       "90024258.0                0           0  4.265161e+06         472.0   \n",
       "90025237.0                0           0  1.157308e+06         437.0   \n",
       "...                     ...         ...           ...           ...   \n",
       "116818083237.0            0           0  2.188600e+06         434.0   \n",
       "180007059511.0            0           0  3.416000e+06         260.0   \n",
       "513629874998.0            0           0  1.340000e+06         520.0   \n",
       "514528869941.0            0           0  1.477818e+06         249.0   \n",
       "WB5102177                 0           0  0.000000e+00         520.0   \n",
       "\n",
       "                        CLV  spend_flag  fr_cluster  fr_labels  \n",
       "card_number                                                     \n",
       "90005806.0       28740000.0           1           0          1  \n",
       "90009340.0       84742000.0           1           0          1  \n",
       "90021926.0      107897000.0           1           1          0  \n",
       "90024258.0      150697000.0           1           0          1  \n",
       "90025237.0       19843000.0           1           0          1  \n",
       "...                     ...         ...         ...        ...  \n",
       "116818083237.0   14589000.0           1           0          1  \n",
       "180007059511.0   31957000.0           1           0          1  \n",
       "513629874998.0    2680000.0           1           0          1  \n",
       "514528869941.0   65114000.0           1           0          1  \n",
       "WB5102177               0.0           1           0          1  \n",
       "\n",
       "[921 rows x 12 columns]"
      ]
     },
     "execution_count": 44,
     "metadata": {},
     "output_type": "execute_result"
    }
   ],
   "source": [
    "features"
   ]
  },
  {
   "cell_type": "code",
   "execution_count": 45,
   "id": "d3b30399",
   "metadata": {},
   "outputs": [
    {
     "data": {
      "text/plain": [
       "<AxesSubplot:xlabel='frequency'>"
      ]
     },
     "execution_count": 45,
     "metadata": {},
     "output_type": "execute_result"
    },
    {
     "data": {
      "image/png": "[encoded data removed]",
      "text/plain": [
       "<Figure size 432x288 with 1 Axes>"
      ]
     },
     "metadata": {
      "needs_background": "light"
     },
     "output_type": "display_data"
    }
   ],
   "source": [
    "sns.scatterplot(data = features, x=\"frequency\", y=0, c= kmeans1.labels_, cmap= 'rainbow' )\n",
    "\n",
    "sns.scatterplot(x=kmeans1.cluster_centers_[:, 0], y = 0, c=['black'])"
   ]
  },
  {
   "cell_type": "code",
   "execution_count": 46,
   "id": "b7eeade4",
   "metadata": {},
   "outputs": [
    {
     "data": {
      "text/plain": [
       "array([[15.01679587,  3.79328165],\n",
       "       [68.04081633,  4.10204082]])"
      ]
     },
     "execution_count": 46,
     "metadata": {},
     "output_type": "execute_result"
    }
   ],
   "source": [
    "kmeans1.cluster_centers_"
   ]
  },
  {
   "cell_type": "code",
   "execution_count": 47,
   "id": "3d15d65c",
   "metadata": {},
   "outputs": [
    {
     "data": {
      "text/plain": [
       "KMeans(n_clusters=4)"
      ]
     },
     "execution_count": 47,
     "metadata": {},
     "output_type": "execute_result"
    }
   ],
   "source": [
    "kmeans2 = KMeans(n_clusters=4)\n",
    "kmeans2.fit(sr)"
   ]
  },
  {
   "cell_type": "code",
   "execution_count": 48,
   "id": "9b0e442b",
   "metadata": {},
   "outputs": [
    {
     "data": {
      "text/plain": [
       "array([[483.88372093],\n",
       "       [ 42.52201258],\n",
       "       [242.70550162],\n",
       "       [716.17391304]])"
      ]
     },
     "execution_count": 48,
     "metadata": {},
     "output_type": "execute_result"
    }
   ],
   "source": [
    "kmeans2.cluster_centers_"
   ]
  },
  {
   "cell_type": "code",
   "execution_count": 49,
   "id": "1fb626eb",
   "metadata": {},
   "outputs": [],
   "source": [
    "features[\"sr_labels\"] = kmeans2.labels_"
   ]
  },
  {
   "cell_type": "code",
   "execution_count": 50,
   "id": "06869752",
   "metadata": {},
   "outputs": [
    {
     "data": {
      "text/html": [
       "<div>\n",
       "<style scoped>\n",
       "    .dataframe tbody tr th:only-of-type {\n",
       "        vertical-align: middle;\n",
       "    }\n",
       "\n",
       "    .dataframe tbody tr th {\n",
       "        vertical-align: top;\n",
       "    }\n",
       "\n",
       "    .dataframe thead th {\n",
       "        text-align: right;\n",
       "    }\n",
       "</style>\n",
       "<table border=\"1\" class=\"dataframe\">\n",
       "  <thead>\n",
       "    <tr style=\"text-align: right;\">\n",
       "      <th></th>\n",
       "      <th>statis_recency</th>\n",
       "      <th>frequency</th>\n",
       "      <th>monetary</th>\n",
       "      <th>mkt_recency</th>\n",
       "      <th>card_number</th>\n",
       "      <th>tk_issdate</th>\n",
       "      <th>monetary_avg</th>\n",
       "      <th>customer_age</th>\n",
       "      <th>CLV</th>\n",
       "      <th>spend_flag</th>\n",
       "      <th>fr_cluster</th>\n",
       "      <th>fr_labels</th>\n",
       "      <th>sr_labels</th>\n",
       "    </tr>\n",
       "    <tr>\n",
       "      <th>card_number</th>\n",
       "      <th></th>\n",
       "      <th></th>\n",
       "      <th></th>\n",
       "      <th></th>\n",
       "      <th></th>\n",
       "      <th></th>\n",
       "      <th></th>\n",
       "      <th></th>\n",
       "      <th></th>\n",
       "      <th></th>\n",
       "      <th></th>\n",
       "      <th></th>\n",
       "      <th></th>\n",
       "    </tr>\n",
       "  </thead>\n",
       "  <tbody>\n",
       "    <tr>\n",
       "      <th>90005806.0</th>\n",
       "      <td>442.0</td>\n",
       "      <td>9</td>\n",
       "      <td>16693000.0</td>\n",
       "      <td>2.0</td>\n",
       "      <td>0</td>\n",
       "      <td>0</td>\n",
       "      <td>1.854778e+06</td>\n",
       "      <td>444.0</td>\n",
       "      <td>28740000.0</td>\n",
       "      <td>1</td>\n",
       "      <td>0</td>\n",
       "      <td>1</td>\n",
       "      <td>0</td>\n",
       "    </tr>\n",
       "    <tr>\n",
       "      <th>90009340.0</th>\n",
       "      <td>299.0</td>\n",
       "      <td>25</td>\n",
       "      <td>78021000.0</td>\n",
       "      <td>240.0</td>\n",
       "      <td>0</td>\n",
       "      <td>0</td>\n",
       "      <td>3.120840e+06</td>\n",
       "      <td>539.0</td>\n",
       "      <td>84742000.0</td>\n",
       "      <td>1</td>\n",
       "      <td>0</td>\n",
       "      <td>1</td>\n",
       "      <td>2</td>\n",
       "    </tr>\n",
       "    <tr>\n",
       "      <th>90021926.0</th>\n",
       "      <td>514.0</td>\n",
       "      <td>42</td>\n",
       "      <td>69822000.0</td>\n",
       "      <td>13.0</td>\n",
       "      <td>0</td>\n",
       "      <td>0</td>\n",
       "      <td>1.662429e+06</td>\n",
       "      <td>527.0</td>\n",
       "      <td>107897000.0</td>\n",
       "      <td>1</td>\n",
       "      <td>1</td>\n",
       "      <td>0</td>\n",
       "      <td>0</td>\n",
       "    </tr>\n",
       "    <tr>\n",
       "      <th>90024258.0</th>\n",
       "      <td>472.0</td>\n",
       "      <td>31</td>\n",
       "      <td>132220000.0</td>\n",
       "      <td>0.0</td>\n",
       "      <td>0</td>\n",
       "      <td>0</td>\n",
       "      <td>4.265161e+06</td>\n",
       "      <td>472.0</td>\n",
       "      <td>150697000.0</td>\n",
       "      <td>1</td>\n",
       "      <td>0</td>\n",
       "      <td>1</td>\n",
       "      <td>0</td>\n",
       "    </tr>\n",
       "    <tr>\n",
       "      <th>90025237.0</th>\n",
       "      <td>421.0</td>\n",
       "      <td>13</td>\n",
       "      <td>15045000.0</td>\n",
       "      <td>16.0</td>\n",
       "      <td>0</td>\n",
       "      <td>0</td>\n",
       "      <td>1.157308e+06</td>\n",
       "      <td>437.0</td>\n",
       "      <td>19843000.0</td>\n",
       "      <td>1</td>\n",
       "      <td>0</td>\n",
       "      <td>1</td>\n",
       "      <td>0</td>\n",
       "    </tr>\n",
       "    <tr>\n",
       "      <th>...</th>\n",
       "      <td>...</td>\n",
       "      <td>...</td>\n",
       "      <td>...</td>\n",
       "      <td>...</td>\n",
       "      <td>...</td>\n",
       "      <td>...</td>\n",
       "      <td>...</td>\n",
       "      <td>...</td>\n",
       "      <td>...</td>\n",
       "      <td>...</td>\n",
       "      <td>...</td>\n",
       "      <td>...</td>\n",
       "      <td>...</td>\n",
       "    </tr>\n",
       "    <tr>\n",
       "      <th>116818083237.0</th>\n",
       "      <td>84.0</td>\n",
       "      <td>5</td>\n",
       "      <td>10943000.0</td>\n",
       "      <td>350.0</td>\n",
       "      <td>0</td>\n",
       "      <td>0</td>\n",
       "      <td>2.188600e+06</td>\n",
       "      <td>434.0</td>\n",
       "      <td>14589000.0</td>\n",
       "      <td>1</td>\n",
       "      <td>0</td>\n",
       "      <td>1</td>\n",
       "      <td>1</td>\n",
       "    </tr>\n",
       "    <tr>\n",
       "      <th>180007059511.0</th>\n",
       "      <td>239.0</td>\n",
       "      <td>2</td>\n",
       "      <td>6832000.0</td>\n",
       "      <td>21.0</td>\n",
       "      <td>0</td>\n",
       "      <td>0</td>\n",
       "      <td>3.416000e+06</td>\n",
       "      <td>260.0</td>\n",
       "      <td>31957000.0</td>\n",
       "      <td>1</td>\n",
       "      <td>0</td>\n",
       "      <td>1</td>\n",
       "      <td>2</td>\n",
       "    </tr>\n",
       "    <tr>\n",
       "      <th>513629874998.0</th>\n",
       "      <td>1.0</td>\n",
       "      <td>2</td>\n",
       "      <td>2680000.0</td>\n",
       "      <td>519.0</td>\n",
       "      <td>0</td>\n",
       "      <td>0</td>\n",
       "      <td>1.340000e+06</td>\n",
       "      <td>520.0</td>\n",
       "      <td>2680000.0</td>\n",
       "      <td>1</td>\n",
       "      <td>0</td>\n",
       "      <td>1</td>\n",
       "      <td>1</td>\n",
       "    </tr>\n",
       "    <tr>\n",
       "      <th>514528869941.0</th>\n",
       "      <td>61.0</td>\n",
       "      <td>11</td>\n",
       "      <td>16256000.0</td>\n",
       "      <td>188.0</td>\n",
       "      <td>0</td>\n",
       "      <td>0</td>\n",
       "      <td>1.477818e+06</td>\n",
       "      <td>249.0</td>\n",
       "      <td>65114000.0</td>\n",
       "      <td>1</td>\n",
       "      <td>0</td>\n",
       "      <td>1</td>\n",
       "      <td>1</td>\n",
       "    </tr>\n",
       "    <tr>\n",
       "      <th>WB5102177</th>\n",
       "      <td>0.0</td>\n",
       "      <td>2</td>\n",
       "      <td>0.0</td>\n",
       "      <td>520.0</td>\n",
       "      <td>0</td>\n",
       "      <td>0</td>\n",
       "      <td>0.000000e+00</td>\n",
       "      <td>520.0</td>\n",
       "      <td>0.0</td>\n",
       "      <td>1</td>\n",
       "      <td>0</td>\n",
       "      <td>1</td>\n",
       "      <td>1</td>\n",
       "    </tr>\n",
       "  </tbody>\n",
       "</table>\n",
       "<p>921 rows × 13 columns</p>\n",
       "</div>"
      ],
      "text/plain": [
       "                statis_recency  frequency     monetary  mkt_recency  \\\n",
       "card_number                                                           \n",
       "90005806.0               442.0          9   16693000.0          2.0   \n",
       "90009340.0               299.0         25   78021000.0        240.0   \n",
       "90021926.0               514.0         42   69822000.0         13.0   \n",
       "90024258.0               472.0         31  132220000.0          0.0   \n",
       "90025237.0               421.0         13   15045000.0         16.0   \n",
       "...                        ...        ...          ...          ...   \n",
       "116818083237.0            84.0          5   10943000.0        350.0   \n",
       "180007059511.0           239.0          2    6832000.0         21.0   \n",
       "513629874998.0             1.0          2    2680000.0        519.0   \n",
       "514528869941.0            61.0         11   16256000.0        188.0   \n",
       "WB5102177                  0.0          2          0.0        520.0   \n",
       "\n",
       "                card_number  tk_issdate  monetary_avg  customer_age  \\\n",
       "card_number                                                           \n",
       "90005806.0                0           0  1.854778e+06         444.0   \n",
       "90009340.0                0           0  3.120840e+06         539.0   \n",
       "90021926.0                0           0  1.662429e+06         527.0   \n",
       "90024258.0                0           0  4.265161e+06         472.0   \n",
       "90025237.0                0           0  1.157308e+06         437.0   \n",
       "...                     ...         ...           ...           ...   \n",
       "116818083237.0            0           0  2.188600e+06         434.0   \n",
       "180007059511.0            0           0  3.416000e+06         260.0   \n",
       "513629874998.0            0           0  1.340000e+06         520.0   \n",
       "514528869941.0            0           0  1.477818e+06         249.0   \n",
       "WB5102177                 0           0  0.000000e+00         520.0   \n",
       "\n",
       "                        CLV  spend_flag  fr_cluster  fr_labels  sr_labels  \n",
       "card_number                                                                \n",
       "90005806.0       28740000.0           1           0          1          0  \n",
       "90009340.0       84742000.0           1           0          1          2  \n",
       "90021926.0      107897000.0           1           1          0          0  \n",
       "90024258.0      150697000.0           1           0          1          0  \n",
       "90025237.0       19843000.0           1           0          1          0  \n",
       "...                     ...         ...         ...        ...        ...  \n",
       "116818083237.0   14589000.0           1           0          1          1  \n",
       "180007059511.0   31957000.0           1           0          1          2  \n",
       "513629874998.0    2680000.0           1           0          1          1  \n",
       "514528869941.0   65114000.0           1           0          1          1  \n",
       "WB5102177               0.0           1           0          1          1  \n",
       "\n",
       "[921 rows x 13 columns]"
      ]
     },
     "execution_count": 50,
     "metadata": {},
     "output_type": "execute_result"
    }
   ],
   "source": [
    "features"
   ]
  },
  {
   "cell_type": "code",
   "execution_count": 51,
   "id": "cf206d70",
   "metadata": {},
   "outputs": [
    {
     "data": {
      "text/html": [
       "<div>\n",
       "<style scoped>\n",
       "    .dataframe tbody tr th:only-of-type {\n",
       "        vertical-align: middle;\n",
       "    }\n",
       "\n",
       "    .dataframe tbody tr th {\n",
       "        vertical-align: top;\n",
       "    }\n",
       "\n",
       "    .dataframe thead th {\n",
       "        text-align: right;\n",
       "    }\n",
       "</style>\n",
       "<table border=\"1\" class=\"dataframe\">\n",
       "  <thead>\n",
       "    <tr style=\"text-align: right;\">\n",
       "      <th></th>\n",
       "      <th>statis_recency</th>\n",
       "      <th>frequency</th>\n",
       "      <th>monetary</th>\n",
       "      <th>mkt_recency</th>\n",
       "      <th>card_number</th>\n",
       "      <th>tk_issdate</th>\n",
       "      <th>monetary_avg</th>\n",
       "      <th>customer_age</th>\n",
       "      <th>CLV</th>\n",
       "      <th>spend_flag</th>\n",
       "      <th>fr_cluster</th>\n",
       "      <th>fr_labels</th>\n",
       "      <th>sr_labels</th>\n",
       "    </tr>\n",
       "    <tr>\n",
       "      <th>card_number</th>\n",
       "      <th></th>\n",
       "      <th></th>\n",
       "      <th></th>\n",
       "      <th></th>\n",
       "      <th></th>\n",
       "      <th></th>\n",
       "      <th></th>\n",
       "      <th></th>\n",
       "      <th></th>\n",
       "      <th></th>\n",
       "      <th></th>\n",
       "      <th></th>\n",
       "      <th></th>\n",
       "    </tr>\n",
       "  </thead>\n",
       "  <tbody>\n",
       "    <tr>\n",
       "      <th>90005806.0</th>\n",
       "      <td>442.0</td>\n",
       "      <td>9</td>\n",
       "      <td>16693000.0</td>\n",
       "      <td>2.0</td>\n",
       "      <td>0</td>\n",
       "      <td>0</td>\n",
       "      <td>1.854778e+06</td>\n",
       "      <td>444.0</td>\n",
       "      <td>28740000.0</td>\n",
       "      <td>1</td>\n",
       "      <td>0</td>\n",
       "      <td>1</td>\n",
       "      <td>0</td>\n",
       "    </tr>\n",
       "    <tr>\n",
       "      <th>90009340.0</th>\n",
       "      <td>299.0</td>\n",
       "      <td>25</td>\n",
       "      <td>78021000.0</td>\n",
       "      <td>240.0</td>\n",
       "      <td>0</td>\n",
       "      <td>0</td>\n",
       "      <td>3.120840e+06</td>\n",
       "      <td>539.0</td>\n",
       "      <td>84742000.0</td>\n",
       "      <td>1</td>\n",
       "      <td>0</td>\n",
       "      <td>1</td>\n",
       "      <td>2</td>\n",
       "    </tr>\n",
       "    <tr>\n",
       "      <th>90021926.0</th>\n",
       "      <td>514.0</td>\n",
       "      <td>42</td>\n",
       "      <td>69822000.0</td>\n",
       "      <td>13.0</td>\n",
       "      <td>0</td>\n",
       "      <td>0</td>\n",
       "      <td>1.662429e+06</td>\n",
       "      <td>527.0</td>\n",
       "      <td>107897000.0</td>\n",
       "      <td>1</td>\n",
       "      <td>1</td>\n",
       "      <td>0</td>\n",
       "      <td>0</td>\n",
       "    </tr>\n",
       "    <tr>\n",
       "      <th>90024258.0</th>\n",
       "      <td>472.0</td>\n",
       "      <td>31</td>\n",
       "      <td>132220000.0</td>\n",
       "      <td>0.0</td>\n",
       "      <td>0</td>\n",
       "      <td>0</td>\n",
       "      <td>4.265161e+06</td>\n",
       "      <td>472.0</td>\n",
       "      <td>150697000.0</td>\n",
       "      <td>1</td>\n",
       "      <td>0</td>\n",
       "      <td>1</td>\n",
       "      <td>0</td>\n",
       "    </tr>\n",
       "    <tr>\n",
       "      <th>90025237.0</th>\n",
       "      <td>421.0</td>\n",
       "      <td>13</td>\n",
       "      <td>15045000.0</td>\n",
       "      <td>16.0</td>\n",
       "      <td>0</td>\n",
       "      <td>0</td>\n",
       "      <td>1.157308e+06</td>\n",
       "      <td>437.0</td>\n",
       "      <td>19843000.0</td>\n",
       "      <td>1</td>\n",
       "      <td>0</td>\n",
       "      <td>1</td>\n",
       "      <td>0</td>\n",
       "    </tr>\n",
       "    <tr>\n",
       "      <th>...</th>\n",
       "      <td>...</td>\n",
       "      <td>...</td>\n",
       "      <td>...</td>\n",
       "      <td>...</td>\n",
       "      <td>...</td>\n",
       "      <td>...</td>\n",
       "      <td>...</td>\n",
       "      <td>...</td>\n",
       "      <td>...</td>\n",
       "      <td>...</td>\n",
       "      <td>...</td>\n",
       "      <td>...</td>\n",
       "      <td>...</td>\n",
       "    </tr>\n",
       "    <tr>\n",
       "      <th>116818083237.0</th>\n",
       "      <td>84.0</td>\n",
       "      <td>5</td>\n",
       "      <td>10943000.0</td>\n",
       "      <td>350.0</td>\n",
       "      <td>0</td>\n",
       "      <td>0</td>\n",
       "      <td>2.188600e+06</td>\n",
       "      <td>434.0</td>\n",
       "      <td>14589000.0</td>\n",
       "      <td>1</td>\n",
       "      <td>0</td>\n",
       "      <td>1</td>\n",
       "      <td>1</td>\n",
       "    </tr>\n",
       "    <tr>\n",
       "      <th>180007059511.0</th>\n",
       "      <td>239.0</td>\n",
       "      <td>2</td>\n",
       "      <td>6832000.0</td>\n",
       "      <td>21.0</td>\n",
       "      <td>0</td>\n",
       "      <td>0</td>\n",
       "      <td>3.416000e+06</td>\n",
       "      <td>260.0</td>\n",
       "      <td>31957000.0</td>\n",
       "      <td>1</td>\n",
       "      <td>0</td>\n",
       "      <td>1</td>\n",
       "      <td>2</td>\n",
       "    </tr>\n",
       "    <tr>\n",
       "      <th>513629874998.0</th>\n",
       "      <td>1.0</td>\n",
       "      <td>2</td>\n",
       "      <td>2680000.0</td>\n",
       "      <td>519.0</td>\n",
       "      <td>0</td>\n",
       "      <td>0</td>\n",
       "      <td>1.340000e+06</td>\n",
       "      <td>520.0</td>\n",
       "      <td>2680000.0</td>\n",
       "      <td>1</td>\n",
       "      <td>0</td>\n",
       "      <td>1</td>\n",
       "      <td>1</td>\n",
       "    </tr>\n",
       "    <tr>\n",
       "      <th>514528869941.0</th>\n",
       "      <td>61.0</td>\n",
       "      <td>11</td>\n",
       "      <td>16256000.0</td>\n",
       "      <td>188.0</td>\n",
       "      <td>0</td>\n",
       "      <td>0</td>\n",
       "      <td>1.477818e+06</td>\n",
       "      <td>249.0</td>\n",
       "      <td>65114000.0</td>\n",
       "      <td>1</td>\n",
       "      <td>0</td>\n",
       "      <td>1</td>\n",
       "      <td>1</td>\n",
       "    </tr>\n",
       "    <tr>\n",
       "      <th>WB5102177</th>\n",
       "      <td>0.0</td>\n",
       "      <td>2</td>\n",
       "      <td>0.0</td>\n",
       "      <td>520.0</td>\n",
       "      <td>0</td>\n",
       "      <td>0</td>\n",
       "      <td>0.000000e+00</td>\n",
       "      <td>520.0</td>\n",
       "      <td>0.0</td>\n",
       "      <td>1</td>\n",
       "      <td>0</td>\n",
       "      <td>1</td>\n",
       "      <td>1</td>\n",
       "    </tr>\n",
       "  </tbody>\n",
       "</table>\n",
       "<p>921 rows × 13 columns</p>\n",
       "</div>"
      ],
      "text/plain": [
       "                statis_recency  frequency     monetary  mkt_recency  \\\n",
       "card_number                                                           \n",
       "90005806.0               442.0          9   16693000.0          2.0   \n",
       "90009340.0               299.0         25   78021000.0        240.0   \n",
       "90021926.0               514.0         42   69822000.0         13.0   \n",
       "90024258.0               472.0         31  132220000.0          0.0   \n",
       "90025237.0               421.0         13   15045000.0         16.0   \n",
       "...                        ...        ...          ...          ...   \n",
       "116818083237.0            84.0          5   10943000.0        350.0   \n",
       "180007059511.0           239.0          2    6832000.0         21.0   \n",
       "513629874998.0             1.0          2    2680000.0        519.0   \n",
       "514528869941.0            61.0         11   16256000.0        188.0   \n",
       "WB5102177                  0.0          2          0.0        520.0   \n",
       "\n",
       "                card_number  tk_issdate  monetary_avg  customer_age  \\\n",
       "card_number                                                           \n",
       "90005806.0                0           0  1.854778e+06         444.0   \n",
       "90009340.0                0           0  3.120840e+06         539.0   \n",
       "90021926.0                0           0  1.662429e+06         527.0   \n",
       "90024258.0                0           0  4.265161e+06         472.0   \n",
       "90025237.0                0           0  1.157308e+06         437.0   \n",
       "...                     ...         ...           ...           ...   \n",
       "116818083237.0            0           0  2.188600e+06         434.0   \n",
       "180007059511.0            0           0  3.416000e+06         260.0   \n",
       "513629874998.0            0           0  1.340000e+06         520.0   \n",
       "514528869941.0            0           0  1.477818e+06         249.0   \n",
       "WB5102177                 0           0  0.000000e+00         520.0   \n",
       "\n",
       "                        CLV  spend_flag  fr_cluster  fr_labels  sr_labels  \n",
       "card_number                                                                \n",
       "90005806.0       28740000.0           1           0          1          0  \n",
       "90009340.0       84742000.0           1           0          1          2  \n",
       "90021926.0      107897000.0           1           1          0          0  \n",
       "90024258.0      150697000.0           1           0          1          0  \n",
       "90025237.0       19843000.0           1           0          1          0  \n",
       "...                     ...         ...         ...        ...        ...  \n",
       "116818083237.0   14589000.0           1           0          1          1  \n",
       "180007059511.0   31957000.0           1           0          1          2  \n",
       "513629874998.0    2680000.0           1           0          1          1  \n",
       "514528869941.0   65114000.0           1           0          1          1  \n",
       "WB5102177               0.0           1           0          1          1  \n",
       "\n",
       "[921 rows x 13 columns]"
      ]
     },
     "execution_count": 51,
     "metadata": {},
     "output_type": "execute_result"
    }
   ],
   "source": [
    "features"
   ]
  },
  {
   "cell_type": "code",
   "execution_count": 52,
   "id": "d7d38bcc",
   "metadata": {},
   "outputs": [
    {
     "ename": "KeyError",
     "evalue": "'sr_cluster'",
     "output_type": "error",
     "traceback": [
      "\u001b[1;31m---------------------------------------------------------------------------\u001b[0m",
      "\u001b[1;31mKeyError\u001b[0m                                  Traceback (most recent call last)",
      "\u001b[1;32m~\\anaconda3\\lib\\site-packages\\pandas\\core\\indexes\\base.py\u001b[0m in \u001b[0;36mget_loc\u001b[1;34m(self, key, method, tolerance)\u001b[0m\n\u001b[0;32m   3620\u001b[0m             \u001b[1;32mtry\u001b[0m\u001b[1;33m:\u001b[0m\u001b[1;33m\u001b[0m\u001b[1;33m\u001b[0m\u001b[0m\n\u001b[1;32m-> 3621\u001b[1;33m                 \u001b[1;32mreturn\u001b[0m \u001b[0mself\u001b[0m\u001b[1;33m.\u001b[0m\u001b[0m_engine\u001b[0m\u001b[1;33m.\u001b[0m\u001b[0mget_loc\u001b[0m\u001b[1;33m(\u001b[0m\u001b[0mcasted_key\u001b[0m\u001b[1;33m)\u001b[0m\u001b[1;33m\u001b[0m\u001b[1;33m\u001b[0m\u001b[0m\n\u001b[0m\u001b[0;32m   3622\u001b[0m             \u001b[1;32mexcept\u001b[0m \u001b[0mKeyError\u001b[0m \u001b[1;32mas\u001b[0m \u001b[0merr\u001b[0m\u001b[1;33m:\u001b[0m\u001b[1;33m\u001b[0m\u001b[1;33m\u001b[0m\u001b[0m\n",
      "\u001b[1;32m~\\anaconda3\\lib\\site-packages\\pandas\\_libs\\index.pyx\u001b[0m in \u001b[0;36mpandas._libs.index.IndexEngine.get_loc\u001b[1;34m()\u001b[0m\n",
      "\u001b[1;32m~\\anaconda3\\lib\\site-packages\\pandas\\_libs\\index.pyx\u001b[0m in \u001b[0;36mpandas._libs.index.IndexEngine.get_loc\u001b[1;34m()\u001b[0m\n",
      "\u001b[1;32mpandas\\_libs\\hashtable_class_helper.pxi\u001b[0m in \u001b[0;36mpandas._libs.hashtable.PyObjectHashTable.get_item\u001b[1;34m()\u001b[0m\n",
      "\u001b[1;32mpandas\\_libs\\hashtable_class_helper.pxi\u001b[0m in \u001b[0;36mpandas._libs.hashtable.PyObjectHashTable.get_item\u001b[1;34m()\u001b[0m\n",
      "\u001b[1;31mKeyError\u001b[0m: 'sr_cluster'",
      "\nThe above exception was the direct cause of the following exception:\n",
      "\u001b[1;31mKeyError\u001b[0m                                  Traceback (most recent call last)",
      "\u001b[1;32m~\\AppData\\Local\\Temp/ipykernel_12744/4043122430.py\u001b[0m in \u001b[0;36m<module>\u001b[1;34m\u001b[0m\n\u001b[1;32m----> 1\u001b[1;33m \u001b[0mfeatures\u001b[0m\u001b[1;33m.\u001b[0m\u001b[0mloc\u001b[0m\u001b[1;33m[\u001b[0m\u001b[0mfeatures\u001b[0m\u001b[1;33m[\u001b[0m\u001b[1;34m'sr_cluster'\u001b[0m\u001b[1;33m]\u001b[0m \u001b[1;33m==\u001b[0m \u001b[1;36m10\u001b[0m\u001b[1;33m,\u001b[0m \u001b[1;34m'sr_cluster'\u001b[0m\u001b[1;33m]\u001b[0m \u001b[1;33m=\u001b[0m \u001b[1;36m2\u001b[0m\u001b[1;33m\u001b[0m\u001b[1;33m\u001b[0m\u001b[0m\n\u001b[0m",
      "\u001b[1;32m~\\anaconda3\\lib\\site-packages\\pandas\\core\\frame.py\u001b[0m in \u001b[0;36m__getitem__\u001b[1;34m(self, key)\u001b[0m\n\u001b[0;32m   3503\u001b[0m             \u001b[1;32mif\u001b[0m \u001b[0mself\u001b[0m\u001b[1;33m.\u001b[0m\u001b[0mcolumns\u001b[0m\u001b[1;33m.\u001b[0m\u001b[0mnlevels\u001b[0m \u001b[1;33m>\u001b[0m \u001b[1;36m1\u001b[0m\u001b[1;33m:\u001b[0m\u001b[1;33m\u001b[0m\u001b[1;33m\u001b[0m\u001b[0m\n\u001b[0;32m   3504\u001b[0m                 \u001b[1;32mreturn\u001b[0m \u001b[0mself\u001b[0m\u001b[1;33m.\u001b[0m\u001b[0m_getitem_multilevel\u001b[0m\u001b[1;33m(\u001b[0m\u001b[0mkey\u001b[0m\u001b[1;33m)\u001b[0m\u001b[1;33m\u001b[0m\u001b[1;33m\u001b[0m\u001b[0m\n\u001b[1;32m-> 3505\u001b[1;33m             \u001b[0mindexer\u001b[0m \u001b[1;33m=\u001b[0m \u001b[0mself\u001b[0m\u001b[1;33m.\u001b[0m\u001b[0mcolumns\u001b[0m\u001b[1;33m.\u001b[0m\u001b[0mget_loc\u001b[0m\u001b[1;33m(\u001b[0m\u001b[0mkey\u001b[0m\u001b[1;33m)\u001b[0m\u001b[1;33m\u001b[0m\u001b[1;33m\u001b[0m\u001b[0m\n\u001b[0m\u001b[0;32m   3506\u001b[0m             \u001b[1;32mif\u001b[0m \u001b[0mis_integer\u001b[0m\u001b[1;33m(\u001b[0m\u001b[0mindexer\u001b[0m\u001b[1;33m)\u001b[0m\u001b[1;33m:\u001b[0m\u001b[1;33m\u001b[0m\u001b[1;33m\u001b[0m\u001b[0m\n\u001b[0;32m   3507\u001b[0m                 \u001b[0mindexer\u001b[0m \u001b[1;33m=\u001b[0m \u001b[1;33m[\u001b[0m\u001b[0mindexer\u001b[0m\u001b[1;33m]\u001b[0m\u001b[1;33m\u001b[0m\u001b[1;33m\u001b[0m\u001b[0m\n",
      "\u001b[1;32m~\\anaconda3\\lib\\site-packages\\pandas\\core\\indexes\\base.py\u001b[0m in \u001b[0;36mget_loc\u001b[1;34m(self, key, method, tolerance)\u001b[0m\n\u001b[0;32m   3621\u001b[0m                 \u001b[1;32mreturn\u001b[0m \u001b[0mself\u001b[0m\u001b[1;33m.\u001b[0m\u001b[0m_engine\u001b[0m\u001b[1;33m.\u001b[0m\u001b[0mget_loc\u001b[0m\u001b[1;33m(\u001b[0m\u001b[0mcasted_key\u001b[0m\u001b[1;33m)\u001b[0m\u001b[1;33m\u001b[0m\u001b[1;33m\u001b[0m\u001b[0m\n\u001b[0;32m   3622\u001b[0m             \u001b[1;32mexcept\u001b[0m \u001b[0mKeyError\u001b[0m \u001b[1;32mas\u001b[0m \u001b[0merr\u001b[0m\u001b[1;33m:\u001b[0m\u001b[1;33m\u001b[0m\u001b[1;33m\u001b[0m\u001b[0m\n\u001b[1;32m-> 3623\u001b[1;33m                 \u001b[1;32mraise\u001b[0m \u001b[0mKeyError\u001b[0m\u001b[1;33m(\u001b[0m\u001b[0mkey\u001b[0m\u001b[1;33m)\u001b[0m \u001b[1;32mfrom\u001b[0m \u001b[0merr\u001b[0m\u001b[1;33m\u001b[0m\u001b[1;33m\u001b[0m\u001b[0m\n\u001b[0m\u001b[0;32m   3624\u001b[0m             \u001b[1;32mexcept\u001b[0m \u001b[0mTypeError\u001b[0m\u001b[1;33m:\u001b[0m\u001b[1;33m\u001b[0m\u001b[1;33m\u001b[0m\u001b[0m\n\u001b[0;32m   3625\u001b[0m                 \u001b[1;31m# If we have a listlike key, _check_indexing_error will raise\u001b[0m\u001b[1;33m\u001b[0m\u001b[1;33m\u001b[0m\u001b[0m\n",
      "\u001b[1;31mKeyError\u001b[0m: 'sr_cluster'"
     ]
    }
   ],
   "source": [
    "features.loc[features['sr_cluster'] == 10, 'sr_cluster'] = 2"
   ]
  },
  {
   "cell_type": "code",
   "execution_count": 65,
   "id": "302a48b4",
   "metadata": {},
   "outputs": [
    {
     "data": {
      "text/html": [
       "<div>\n",
       "<style scoped>\n",
       "    .dataframe tbody tr th:only-of-type {\n",
       "        vertical-align: middle;\n",
       "    }\n",
       "\n",
       "    .dataframe tbody tr th {\n",
       "        vertical-align: top;\n",
       "    }\n",
       "\n",
       "    .dataframe thead th {\n",
       "        text-align: right;\n",
       "    }\n",
       "</style>\n",
       "<table border=\"1\" class=\"dataframe\">\n",
       "  <thead>\n",
       "    <tr style=\"text-align: right;\">\n",
       "      <th></th>\n",
       "      <th>statis_recency</th>\n",
       "      <th>frequency</th>\n",
       "      <th>monetary</th>\n",
       "      <th>mkt_recency</th>\n",
       "      <th>card_number</th>\n",
       "      <th>tk_issdate</th>\n",
       "      <th>monetary_avg</th>\n",
       "      <th>customer_age</th>\n",
       "      <th>CLV</th>\n",
       "      <th>spend_flag</th>\n",
       "      <th>fr_cluster</th>\n",
       "      <th>fr_labels</th>\n",
       "      <th>sr_labels</th>\n",
       "    </tr>\n",
       "    <tr>\n",
       "      <th>card_number</th>\n",
       "      <th></th>\n",
       "      <th></th>\n",
       "      <th></th>\n",
       "      <th></th>\n",
       "      <th></th>\n",
       "      <th></th>\n",
       "      <th></th>\n",
       "      <th></th>\n",
       "      <th></th>\n",
       "      <th></th>\n",
       "      <th></th>\n",
       "      <th></th>\n",
       "      <th></th>\n",
       "    </tr>\n",
       "  </thead>\n",
       "  <tbody>\n",
       "    <tr>\n",
       "      <th>9.000581e+07</th>\n",
       "      <td>442.0</td>\n",
       "      <td>9</td>\n",
       "      <td>16693000.0</td>\n",
       "      <td>2.0</td>\n",
       "      <td>0</td>\n",
       "      <td>0</td>\n",
       "      <td>1.854778e+06</td>\n",
       "      <td>444.0</td>\n",
       "      <td>2.874000e+07</td>\n",
       "      <td>1</td>\n",
       "      <td>0</td>\n",
       "      <td>1</td>\n",
       "      <td>0</td>\n",
       "    </tr>\n",
       "    <tr>\n",
       "      <th>9.002193e+07</th>\n",
       "      <td>514.0</td>\n",
       "      <td>42</td>\n",
       "      <td>69822000.0</td>\n",
       "      <td>13.0</td>\n",
       "      <td>0</td>\n",
       "      <td>0</td>\n",
       "      <td>1.662429e+06</td>\n",
       "      <td>527.0</td>\n",
       "      <td>1.078970e+08</td>\n",
       "      <td>1</td>\n",
       "      <td>1</td>\n",
       "      <td>0</td>\n",
       "      <td>0</td>\n",
       "    </tr>\n",
       "    <tr>\n",
       "      <th>9.002426e+07</th>\n",
       "      <td>472.0</td>\n",
       "      <td>31</td>\n",
       "      <td>132220000.0</td>\n",
       "      <td>0.0</td>\n",
       "      <td>0</td>\n",
       "      <td>0</td>\n",
       "      <td>4.265161e+06</td>\n",
       "      <td>472.0</td>\n",
       "      <td>1.506970e+08</td>\n",
       "      <td>1</td>\n",
       "      <td>0</td>\n",
       "      <td>1</td>\n",
       "      <td>0</td>\n",
       "    </tr>\n",
       "    <tr>\n",
       "      <th>9.002524e+07</th>\n",
       "      <td>421.0</td>\n",
       "      <td>13</td>\n",
       "      <td>15045000.0</td>\n",
       "      <td>16.0</td>\n",
       "      <td>0</td>\n",
       "      <td>0</td>\n",
       "      <td>1.157308e+06</td>\n",
       "      <td>437.0</td>\n",
       "      <td>1.984300e+07</td>\n",
       "      <td>1</td>\n",
       "      <td>0</td>\n",
       "      <td>1</td>\n",
       "      <td>0</td>\n",
       "    </tr>\n",
       "    <tr>\n",
       "      <th>9.006283e+07</th>\n",
       "      <td>483.0</td>\n",
       "      <td>129</td>\n",
       "      <td>971193000.0</td>\n",
       "      <td>35.0</td>\n",
       "      <td>0</td>\n",
       "      <td>0</td>\n",
       "      <td>7.528628e+06</td>\n",
       "      <td>518.0</td>\n",
       "      <td>1.254422e+09</td>\n",
       "      <td>1</td>\n",
       "      <td>1</td>\n",
       "      <td>0</td>\n",
       "      <td>0</td>\n",
       "    </tr>\n",
       "    <tr>\n",
       "      <th>...</th>\n",
       "      <td>...</td>\n",
       "      <td>...</td>\n",
       "      <td>...</td>\n",
       "      <td>...</td>\n",
       "      <td>...</td>\n",
       "      <td>...</td>\n",
       "      <td>...</td>\n",
       "      <td>...</td>\n",
       "      <td>...</td>\n",
       "      <td>...</td>\n",
       "      <td>...</td>\n",
       "      <td>...</td>\n",
       "      <td>...</td>\n",
       "    </tr>\n",
       "    <tr>\n",
       "      <th>9.901334e+09</th>\n",
       "      <td>498.0</td>\n",
       "      <td>31</td>\n",
       "      <td>55858000.0</td>\n",
       "      <td>20.0</td>\n",
       "      <td>0</td>\n",
       "      <td>0</td>\n",
       "      <td>1.801871e+06</td>\n",
       "      <td>518.0</td>\n",
       "      <td>6.558700e+07</td>\n",
       "      <td>1</td>\n",
       "      <td>0</td>\n",
       "      <td>1</td>\n",
       "      <td>0</td>\n",
       "    </tr>\n",
       "    <tr>\n",
       "      <th>9.901981e+09</th>\n",
       "      <td>541.0</td>\n",
       "      <td>19</td>\n",
       "      <td>44880000.0</td>\n",
       "      <td>0.0</td>\n",
       "      <td>0</td>\n",
       "      <td>0</td>\n",
       "      <td>2.362105e+06</td>\n",
       "      <td>541.0</td>\n",
       "      <td>5.103400e+07</td>\n",
       "      <td>1</td>\n",
       "      <td>0</td>\n",
       "      <td>1</td>\n",
       "      <td>0</td>\n",
       "    </tr>\n",
       "    <tr>\n",
       "      <th>9.902230e+09</th>\n",
       "      <td>455.0</td>\n",
       "      <td>26</td>\n",
       "      <td>31436000.0</td>\n",
       "      <td>15.0</td>\n",
       "      <td>0</td>\n",
       "      <td>0</td>\n",
       "      <td>1.209077e+06</td>\n",
       "      <td>470.0</td>\n",
       "      <td>4.215600e+07</td>\n",
       "      <td>1</td>\n",
       "      <td>0</td>\n",
       "      <td>1</td>\n",
       "      <td>0</td>\n",
       "    </tr>\n",
       "    <tr>\n",
       "      <th>9.902610e+09</th>\n",
       "      <td>437.0</td>\n",
       "      <td>39</td>\n",
       "      <td>125009000.0</td>\n",
       "      <td>39.0</td>\n",
       "      <td>0</td>\n",
       "      <td>0</td>\n",
       "      <td>3.205359e+06</td>\n",
       "      <td>476.0</td>\n",
       "      <td>1.742400e+08</td>\n",
       "      <td>1</td>\n",
       "      <td>0</td>\n",
       "      <td>1</td>\n",
       "      <td>0</td>\n",
       "    </tr>\n",
       "    <tr>\n",
       "      <th>1.137156e+11</th>\n",
       "      <td>483.0</td>\n",
       "      <td>30</td>\n",
       "      <td>208698000.0</td>\n",
       "      <td>38.0</td>\n",
       "      <td>0</td>\n",
       "      <td>0</td>\n",
       "      <td>6.956600e+06</td>\n",
       "      <td>521.0</td>\n",
       "      <td>2.086980e+08</td>\n",
       "      <td>1</td>\n",
       "      <td>0</td>\n",
       "      <td>1</td>\n",
       "      <td>0</td>\n",
       "    </tr>\n",
       "  </tbody>\n",
       "</table>\n",
       "<p>430 rows × 13 columns</p>\n",
       "</div>"
      ],
      "text/plain": [
       "              statis_recency  frequency     monetary  mkt_recency  \\\n",
       "card_number                                                         \n",
       "9.000581e+07           442.0          9   16693000.0          2.0   \n",
       "9.002193e+07           514.0         42   69822000.0         13.0   \n",
       "9.002426e+07           472.0         31  132220000.0          0.0   \n",
       "9.002524e+07           421.0         13   15045000.0         16.0   \n",
       "9.006283e+07           483.0        129  971193000.0         35.0   \n",
       "...                      ...        ...          ...          ...   \n",
       "9.901334e+09           498.0         31   55858000.0         20.0   \n",
       "9.901981e+09           541.0         19   44880000.0          0.0   \n",
       "9.902230e+09           455.0         26   31436000.0         15.0   \n",
       "9.902610e+09           437.0         39  125009000.0         39.0   \n",
       "1.137156e+11           483.0         30  208698000.0         38.0   \n",
       "\n",
       "              card_number  tk_issdate  monetary_avg  customer_age  \\\n",
       "card_number                                                         \n",
       "9.000581e+07            0           0  1.854778e+06         444.0   \n",
       "9.002193e+07            0           0  1.662429e+06         527.0   \n",
       "9.002426e+07            0           0  4.265161e+06         472.0   \n",
       "9.002524e+07            0           0  1.157308e+06         437.0   \n",
       "9.006283e+07            0           0  7.528628e+06         518.0   \n",
       "...                   ...         ...           ...           ...   \n",
       "9.901334e+09            0           0  1.801871e+06         518.0   \n",
       "9.901981e+09            0           0  2.362105e+06         541.0   \n",
       "9.902230e+09            0           0  1.209077e+06         470.0   \n",
       "9.902610e+09            0           0  3.205359e+06         476.0   \n",
       "1.137156e+11            0           0  6.956600e+06         521.0   \n",
       "\n",
       "                       CLV  spend_flag  fr_cluster  fr_labels  sr_labels  \n",
       "card_number                                                               \n",
       "9.000581e+07  2.874000e+07           1           0          1          0  \n",
       "9.002193e+07  1.078970e+08           1           1          0          0  \n",
       "9.002426e+07  1.506970e+08           1           0          1          0  \n",
       "9.002524e+07  1.984300e+07           1           0          1          0  \n",
       "9.006283e+07  1.254422e+09           1           1          0          0  \n",
       "...                    ...         ...         ...        ...        ...  \n",
       "9.901334e+09  6.558700e+07           1           0          1          0  \n",
       "9.901981e+09  5.103400e+07           1           0          1          0  \n",
       "9.902230e+09  4.215600e+07           1           0          1          0  \n",
       "9.902610e+09  1.742400e+08           1           0          1          0  \n",
       "1.137156e+11  2.086980e+08           1           0          1          0  \n",
       "\n",
       "[430 rows x 13 columns]"
      ]
     },
     "execution_count": 65,
     "metadata": {},
     "output_type": "execute_result"
    }
   ],
   "source": [
    "features[features['sr_labels'] == 0]"
   ]
  },
  {
   "cell_type": "code",
   "execution_count": null,
   "id": "c567db1f",
   "metadata": {},
   "outputs": [],
   "source": [
    "features[features]"
   ]
  },
  {
   "cell_type": "code",
   "execution_count": null,
   "id": "fe4174c4",
   "metadata": {},
   "outputs": [],
   "source": [
    "kmeans3 = KMeans(n_clusters=2)\n",
    "kmeans3.fit(mr)"
   ]
  },
  {
   "cell_type": "code",
   "execution_count": null,
   "id": "95a8260a",
   "metadata": {},
   "outputs": [],
   "source": [
    "kmeans4 = KMeans(n_clusters=2)\n",
    "kmeans4.fit(mn)"
   ]
  },
  {
   "cell_type": "code",
   "execution_count": null,
   "id": "6e201076",
   "metadata": {},
   "outputs": [],
   "source": [
    "kmeans3.cluster_centers_"
   ]
  },
  {
   "cell_type": "code",
   "execution_count": null,
   "id": "e0e11acb",
   "metadata": {},
   "outputs": [],
   "source": [
    "kmeans4.cluster_centers_"
   ]
  },
  {
   "cell_type": "code",
   "execution_count": null,
   "id": "4cd37c0e",
   "metadata": {},
   "outputs": [],
   "source": [
    "features[\"mr_labels\"] = kmeans3.labels_"
   ]
  },
  {
   "cell_type": "code",
   "execution_count": null,
   "id": "1902de08",
   "metadata": {},
   "outputs": [],
   "source": [
    "features[\"mn_labels\"] = kmeans4.labels_"
   ]
  },
  {
   "cell_type": "code",
   "execution_count": null,
   "id": "550adcb4",
   "metadata": {},
   "outputs": [],
   "source": [
    "features[\"sr_labels\"] = features[\"sr_cluster\"]"
   ]
  },
  {
   "cell_type": "code",
   "execution_count": null,
   "id": "423cbe70",
   "metadata": {},
   "outputs": [],
   "source": [
    "features"
   ]
  },
  {
   "cell_type": "code",
   "execution_count": null,
   "id": "3a2cd70b",
   "metadata": {},
   "outputs": [],
   "source": [
    "features"
   ]
  },
  {
   "cell_type": "code",
   "execution_count": null,
   "id": "e6538222",
   "metadata": {},
   "outputs": [],
   "source": [
    "features = features.drop(columns=['sr_cluster'])"
   ]
  },
  {
   "cell_type": "code",
   "execution_count": null,
   "id": "1a85e2db",
   "metadata": {},
   "outputs": [],
   "source": [
    "features[\"rfm_scores\"] = features[\"fr_labels\"] + features[\"mn_labels\"] + features[\"sr_labels\"]"
   ]
  },
  {
   "cell_type": "code",
   "execution_count": null,
   "id": "988eca62",
   "metadata": {},
   "outputs": [],
   "source": [
    "features[\"mkt_rfm_scores\"] = features[\"fr_labels\"] + features[\"mn_labels\"] + features[\"mr_labels\"]"
   ]
  },
  {
   "cell_type": "code",
   "execution_count": null,
   "id": "5d2b105a",
   "metadata": {},
   "outputs": [],
   "source": [
    "features[[\"mkt_rfm_scores\"]].sort_values(by='mkt_rfm_scores')"
   ]
  },
  {
   "cell_type": "code",
   "execution_count": null,
   "id": "9b189496",
   "metadata": {},
   "outputs": [],
   "source": [
    "features.loc[features['sr_labels'] == 10, 'sr_labels'] = 3"
   ]
  },
  {
   "cell_type": "code",
   "execution_count": null,
   "id": "c8ba8b6e",
   "metadata": {},
   "outputs": [],
   "source": [
    "features.loc[features['mr_labels'] == 3, 'mr_labels'] = 1"
   ]
  },
  {
   "cell_type": "code",
   "execution_count": null,
   "id": "65708e1b",
   "metadata": {},
   "outputs": [],
   "source": [
    "from lifetimes import BetaGeoFitter"
   ]
  },
  {
   "cell_type": "code",
   "execution_count": null,
   "id": "5ecc5674",
   "metadata": {},
   "outputs": [],
   "source": [
    "bgf1 = BetaGeoFitter(penalizer_coef=0.0)\n",
    "bgf1.fit(features['frequency'], features['recency'], features['customer_age'])\n",
    "print(bgf1)\n",
    "\"\"\"\n",
    "<lifetimes.BetaGeoFitter: fitted with 2357 subjects, a: 0.79, alpha: 4.41, b: 2.43,\n",
    "˓→r: 0.24>\n",
    "\"\"\"\n",
    "bgf1.summary"
   ]
  },
  {
   "cell_type": "code",
   "execution_count": null,
   "id": "6384912d",
   "metadata": {},
   "outputs": [],
   "source": [
    "bgf1 = BetaGeoFitter()\n",
    "bgf1.fit(features['frequency'], features['recency'], features['customer_age'])\n",
    "print(bgf1)\n",
    "bgf1.summary"
   ]
  },
  {
   "cell_type": "code",
   "execution_count": null,
   "id": "970d1d69",
   "metadata": {},
   "outputs": [],
   "source": [
    "from lifetimes.plotting import plot_frequency_recency_matrix\n",
    "plot_frequency_recency_matrix(bgf)"
   ]
  },
  {
   "cell_type": "code",
   "execution_count": null,
   "id": "b81cc23b",
   "metadata": {},
   "outputs": [],
   "source": [
    "from lifetimes.plotting import plot_probability_alive_matrix\n",
    "plot_probability_alive_matrix(bgf)"
   ]
  },
  {
   "cell_type": "code",
   "execution_count": null,
   "id": "ea94946b",
   "metadata": {},
   "outputs": [],
   "source": [
    "from lifetimes.plotting import plot_period_transactions\n",
    "plot_period_transactions(bgf)"
   ]
  },
  {
   "cell_type": "code",
   "execution_count": null,
   "id": "032e529f",
   "metadata": {},
   "outputs": [],
   "source": [
    "t = 100\n",
    "features['predicted_purchases_100'] = bgf.conditional_expected_number_of_purchases_up_to_time(t, features['frequency'], features['statis_recency'], features['customer_age'])\n",
    "features.sort_values(by='predicted_purchases').tail(5)"
   ]
  },
  {
   "cell_type": "code",
   "execution_count": null,
   "id": "cac19cf1",
   "metadata": {},
   "outputs": [],
   "source": [
    "features_2"
   ]
  },
  {
   "cell_type": "code",
   "execution_count": null,
   "id": "9919993d",
   "metadata": {},
   "outputs": [],
   "source": [
    "features_new[\"probality_alive\"] = bgf.conditional_probability_alive(features_new['frequency'], features_new['statis_recency'], features_new['customer_age'])"
   ]
  },
  {
   "cell_type": "code",
   "execution_count": null,
   "id": "635f461b",
   "metadata": {},
   "outputs": [],
   "source": [
    "features = features.drop(columns=['recency'])"
   ]
  },
  {
   "cell_type": "code",
   "execution_count": null,
   "id": "9461e79b",
   "metadata": {},
   "outputs": [],
   "source": [
    "from lifetimes import GammaGammaFitter\n",
    "ggf = GammaGammaFitter(penalizer_coef = 0)\n",
    "ggf.fit(features_new['frequency'],\n",
    "features_new['monetary_avg'])\n",
    "print(ggf)"
   ]
  },
  {
   "cell_type": "code",
   "execution_count": null,
   "id": "a456c46c",
   "metadata": {},
   "outputs": [],
   "source": [
    "features_new[\"predicted_monetary\"] = ggf.conditional_expected_average_profit(features_new['frequency'],features_new['monetary_avg'])"
   ]
  },
  {
   "cell_type": "code",
   "execution_count": null,
   "id": "1b54d4cb",
   "metadata": {},
   "outputs": [],
   "source": [
    "features_new = features.loc[features[\"monetary_avg\"] > 0 ]"
   ]
  },
  {
   "cell_type": "code",
   "execution_count": null,
   "id": "71a61214",
   "metadata": {},
   "outputs": [],
   "source": [
    "ft[[\"monetary\", \"monetary_avg\", \"CLV\", \"prob_CLV\", \"rf_CLV\", \"XGB_CLV\"]]"
   ]
  },
  {
   "cell_type": "code",
   "execution_count": null,
   "id": "43a504fa",
   "metadata": {},
   "outputs": [],
   "source": [
    "ft[\"prob_CLV\"] = ft[\"st\"]"
   ]
  },
  {
   "cell_type": "code",
   "execution_count": null,
   "id": "f7d13f2b",
   "metadata": {},
   "outputs": [],
   "source": [
    "features_new[\"Probality_CLV\"] = features_new[\"predicted_purchases\"] * features_new[\"predicted_monetary\"]"
   ]
  },
  {
   "cell_type": "code",
   "execution_count": null,
   "id": "ec719891",
   "metadata": {},
   "outputs": [],
   "source": [
    "from xgboost import XGBClassifier, XGBRegressor"
   ]
  },
  {
   "cell_type": "code",
   "execution_count": null,
   "id": "0685a859",
   "metadata": {},
   "outputs": [],
   "source": [
    "from sklearn.model_selection import cross_val_score, GridSearchCV"
   ]
  },
  {
   "cell_type": "code",
   "execution_count": null,
   "id": "45ca8a1b",
   "metadata": {},
   "outputs": [],
   "source": [
    "X = features_new[[\"statis_recency\", \"frequency\", \"monetary\", \"mkt_recency\", \"monetary_avg\", \"customer_age\"]]"
   ]
  },
  {
   "cell_type": "code",
   "execution_count": null,
   "id": "a003823e",
   "metadata": {},
   "outputs": [],
   "source": [
    "y = features_new[\"CLV\"]"
   ]
  },
  {
   "cell_type": "code",
   "execution_count": null,
   "id": "a18de356",
   "metadata": {},
   "outputs": [],
   "source": [
    "xgb_reg_spec = XGBRegressor(objective=\"reg:squarederror\", randomstate = 123)\n",
    "xgb_reg_model = GridSearchCV(estimator = xgb_reg_spec, param_grid = dict(learning_rate = [0.01, 0.1, 0.3, 0.5]),scoring =\"neg_mean_absolute_error\", refit = True, cv = 5)"
   ]
  },
  {
   "cell_type": "code",
   "execution_count": null,
   "id": "17e7f5d3",
   "metadata": {},
   "outputs": [],
   "source": [
    "xgb_reg_model.fit(X, y)"
   ]
  },
  {
   "cell_type": "code",
   "execution_count": null,
   "id": "4be9f85a",
   "metadata": {},
   "outputs": [],
   "source": [
    "(ft[\"st\"] - ft[\"CLV\"]).abs().sum()/919"
   ]
  },
  {
   "cell_type": "code",
   "execution_count": null,
   "id": "4fe8bdd2",
   "metadata": {},
   "outputs": [],
   "source": [
    "(ft[\"st\"] - ft[\"CLV\"]).abs().max()"
   ]
  },
  {
   "cell_type": "code",
   "execution_count": null,
   "id": "498579cb",
   "metadata": {},
   "outputs": [],
   "source": [
    "features_new"
   ]
  },
  {
   "cell_type": "code",
   "execution_count": null,
   "id": "385d73b7",
   "metadata": {},
   "outputs": [],
   "source": [
    "(features_new[\"rf_CLV\"] - features_new[\"CLV\"]).abs().min()"
   ]
  },
  {
   "cell_type": "code",
   "execution_count": null,
   "id": "30a3bc3d",
   "metadata": {},
   "outputs": [],
   "source": [
    "(features_new[\"rf_CLV\"] - features_new[\"CLV\"]).abs().sum()/features_new[\"CLV\"].count()"
   ]
  },
  {
   "cell_type": "code",
   "execution_count": null,
   "id": "8ec0ca50",
   "metadata": {},
   "outputs": [],
   "source": [
    "tk_target[\"tk_issdate\"].max()"
   ]
  },
  {
   "cell_type": "code",
   "execution_count": null,
   "id": "6fb5082c",
   "metadata": {},
   "outputs": [],
   "source": [
    "tk_target[\"tk_issdate\"].min()"
   ]
  },
  {
   "cell_type": "code",
   "execution_count": null,
   "id": "bd180650",
   "metadata": {},
   "outputs": [],
   "source": [
    "from sklearn.model_selection import train_test_split\n",
    "X_train, X_test, y_train, y_test = train_test_split(X, y, test_size = 0.20)"
   ]
  },
  {
   "cell_type": "code",
   "execution_count": null,
   "id": "e25e3d96",
   "metadata": {},
   "outputs": [],
   "source": []
  },
  {
   "cell_type": "code",
   "execution_count": null,
   "id": "c8325bba",
   "metadata": {},
   "outputs": [],
   "source": [
    "from sklearn.ensemble import RandomForestRegressor"
   ]
  },
  {
   "cell_type": "code",
   "execution_count": null,
   "id": "47607b26",
   "metadata": {},
   "outputs": [],
   "source": [
    "model_rg = RandomForestRegressor(n_estimators = 30, random_state = 30)"
   ]
  },
  {
   "cell_type": "code",
   "execution_count": null,
   "id": "afbfc0d3",
   "metadata": {},
   "outputs": [],
   "source": [
    "rf = model_rg.fit(X_train, y_train)"
   ]
  },
  {
   "cell_type": "code",
   "execution_count": null,
   "id": "60020114",
   "metadata": {},
   "outputs": [],
   "source": [
    "rf.score(X_train, y_train)"
   ]
  },
  {
   "cell_type": "code",
   "execution_count": null,
   "id": "c10f07d4",
   "metadata": {},
   "outputs": [],
   "source": [
    "from sklearn.metrics import mean_absolute_error, mean_squared_error, explained_variance_score, r2_score"
   ]
  },
  {
   "cell_type": "code",
   "execution_count": null,
   "id": "488acba0",
   "metadata": {},
   "outputs": [],
   "source": [
    "y_pred = rf.predict(X_train)"
   ]
  },
  {
   "cell_type": "code",
   "execution_count": null,
   "id": "f216418c",
   "metadata": {},
   "outputs": [],
   "source": [
    "print(\"MAE: %.2f\"%mean_absolute_error(y_train, y_pred))"
   ]
  },
  {
   "cell_type": "code",
   "execution_count": null,
   "id": "747ca3cc",
   "metadata": {},
   "outputs": [],
   "source": [
    "print(\"MSE: %.2f\"%mean_squared_error(y_train, y_pred))"
   ]
  },
  {
   "cell_type": "code",
   "execution_count": null,
   "id": "69a86cd1",
   "metadata": {},
   "outputs": [],
   "source": [
    "print(\"EVS: %.2f\"%explained_variance_score(y_train, y_pred))"
   ]
  },
  {
   "cell_type": "code",
   "execution_count": null,
   "id": "3a17d0ab",
   "metadata": {},
   "outputs": [],
   "source": [
    "y_test_pred = rf.predict(X_test)"
   ]
  },
  {
   "cell_type": "code",
   "execution_count": null,
   "id": "f5e18438",
   "metadata": {},
   "outputs": [],
   "source": [
    "print(\"R_sq: %.2f\"%r2_score(y_test, y_test_pred))"
   ]
  },
  {
   "cell_type": "code",
   "execution_count": null,
   "id": "1d040af3",
   "metadata": {},
   "outputs": [],
   "source": [
    "rf.score(X_test, y_test)"
   ]
  },
  {
   "cell_type": "code",
   "execution_count": null,
   "id": "4176b133",
   "metadata": {},
   "outputs": [],
   "source": [
    "plt.rcParams[\"figure.figsize\"] =(20,10)"
   ]
  },
  {
   "cell_type": "code",
   "execution_count": null,
   "id": "ff0427dc",
   "metadata": {},
   "outputs": [],
   "source": [
    "x_ax = range(len(X_test))\n",
    "plt.plot(x_ax, y_test, label = \"Observed\", color = 'k', linestyle = \"-\")\n",
    "plt.plot(x_ax, y_test_pred, label = \"Predicted\", color = 'red', linestyle = \"--\")"
   ]
  },
  {
   "cell_type": "code",
   "execution_count": null,
   "id": "a8ca40c8",
   "metadata": {},
   "outputs": [],
   "source": [
    "model_rg1 = RandomForestRegressor(n_estimators = 30, random_state = 30)"
   ]
  },
  {
   "cell_type": "code",
   "execution_count": null,
   "id": "ae44d992",
   "metadata": {},
   "outputs": [],
   "source": [
    "rf1 = model_rg.fit(X, y)"
   ]
  },
  {
   "cell_type": "code",
   "execution_count": null,
   "id": "c47982ea",
   "metadata": {},
   "outputs": [],
   "source": [
    "features_new[\"rf_CLV\"] = rf1.predict(X)"
   ]
  },
  {
   "cell_type": "code",
   "execution_count": null,
   "id": "eff21494",
   "metadata": {},
   "outputs": [],
   "source": [
    "features_new"
   ]
  },
  {
   "cell_type": "code",
   "execution_count": null,
   "id": "0365480a",
   "metadata": {},
   "outputs": [],
   "source": [
    "cor = features.corr()"
   ]
  },
  {
   "cell_type": "code",
   "execution_count": null,
   "id": "0d439a7f",
   "metadata": {},
   "outputs": [],
   "source": [
    "features"
   ]
  },
  {
   "cell_type": "code",
   "execution_count": null,
   "id": "c62b4a9b",
   "metadata": {},
   "outputs": [],
   "source": [
    "cor"
   ]
  },
  {
   "cell_type": "code",
   "execution_count": null,
   "id": "28ec1821",
   "metadata": {},
   "outputs": [],
   "source": [
    "import plydata.cat_tools as cat"
   ]
  },
  {
   "cell_type": "code",
   "execution_count": null,
   "id": "8088fb99",
   "metadata": {},
   "outputs": [],
   "source": []
  }
 ],
 "metadata": {
  "kernelspec": {
   "display_name": "Python 3 (ipykernel)",
   "language": "python",
   "name": "python3"
  },
  "language_info": {
   "codemirror_mode": {
    "name": "ipython",
    "version": 3
   },
   "file_extension": ".py",
   "mimetype": "text/x-python",
   "name": "python",
   "nbconvert_exporter": "python",
   "pygments_lexer": "ipython3",
   "version": "3.9.7"
  }
 },
 "nbformat": 4,
 "nbformat_minor": 5
}
